{
 "cells": [
  {
   "cell_type": "code",
   "execution_count": 1,
   "metadata": {},
   "outputs": [],
   "source": [
    "import pandas as pd\n",
    "import re"
   ]
  },
  {
   "cell_type": "code",
   "execution_count": 2,
   "metadata": {},
   "outputs": [],
   "source": [
    "df_birth_year = pd.read_csv('data/birth_year.csv')\n",
    "df_extrovert_introvert = pd.read_csv('data/extrovert_introvert.csv')\n",
    "df_feeling_thinking = pd.read_csv('data/feeling_thinking.csv')\n",
    "df_gender = pd.read_csv('data/gender.csv')\n",
    "df_judging_perceiving = pd.read_csv('data/judging_perceiving.csv')\n",
    "df_nationality = pd.read_csv('data/nationality.csv')\n",
    "df_political_leaning = pd.read_csv('data/political_leaning.csv')\n",
    "df_sensing_intuitive = pd.read_csv('data/sensing_intuitive.csv')"
   ]
  },
  {
   "cell_type": "code",
   "execution_count": 3,
   "metadata": {},
   "outputs": [
    {
     "data": {
      "text/plain": [
       "extrovert\n",
       "0    31370\n",
       "1     9082\n",
       "Name: count, dtype: int64"
      ]
     },
     "execution_count": 3,
     "metadata": {},
     "output_type": "execute_result"
    }
   ],
   "source": [
    "df_extrovert_introvert.extrovert.value_counts()"
   ]
  },
  {
   "cell_type": "code",
   "execution_count": 4,
   "metadata": {},
   "outputs": [
    {
     "data": {
      "text/plain": [
       "feeling\n",
       "0    26168\n",
       "1    13432\n",
       "Name: count, dtype: int64"
      ]
     },
     "execution_count": 4,
     "metadata": {},
     "output_type": "execute_result"
    }
   ],
   "source": [
    "df_feeling_thinking.feeling.value_counts()"
   ]
  },
  {
   "cell_type": "code",
   "execution_count": 5,
   "metadata": {},
   "outputs": [
    {
     "data": {
      "text/plain": [
       "judging\n",
       "1    25465\n",
       "0    15900\n",
       "Name: count, dtype: int64"
      ]
     },
     "execution_count": 5,
     "metadata": {},
     "output_type": "execute_result"
    }
   ],
   "source": [
    "df_judging_perceiving.judging.value_counts()"
   ]
  },
  {
   "cell_type": "code",
   "execution_count": 6,
   "metadata": {},
   "outputs": [
    {
     "data": {
      "text/plain": [
       "sensing\n",
       "0    36582\n",
       "1     5257\n",
       "Name: count, dtype: int64"
      ]
     },
     "execution_count": 6,
     "metadata": {},
     "output_type": "execute_result"
    }
   ],
   "source": [
    "df_sensing_intuitive.sensing.value_counts()"
   ]
  },
  {
   "cell_type": "code",
   "execution_count": 7,
   "metadata": {},
   "outputs": [
    {
     "data": {
      "text/html": [
       "<div>\n",
       "<style scoped>\n",
       "    .dataframe tbody tr th:only-of-type {\n",
       "        vertical-align: middle;\n",
       "    }\n",
       "\n",
       "    .dataframe tbody tr th {\n",
       "        vertical-align: top;\n",
       "    }\n",
       "\n",
       "    .dataframe thead th {\n",
       "        text-align: right;\n",
       "    }\n",
       "</style>\n",
       "<table border=\"1\" class=\"dataframe\">\n",
       "  <thead>\n",
       "    <tr style=\"text-align: right;\">\n",
       "      <th></th>\n",
       "      <th>auhtor_ID</th>\n",
       "      <th>post</th>\n",
       "      <th>extrovert</th>\n",
       "    </tr>\n",
       "  </thead>\n",
       "  <tbody>\n",
       "    <tr>\n",
       "      <th>0</th>\n",
       "      <td>t2_2hrxxs28</td>\n",
       "      <td>I have a question, if you have no doctor, how'...</td>\n",
       "      <td>0</td>\n",
       "    </tr>\n",
       "    <tr>\n",
       "      <th>1</th>\n",
       "      <td>t2_2hrxxs28</td>\n",
       "      <td>butt to have Covid + your cycle. I'm not sure ...</td>\n",
       "      <td>0</td>\n",
       "    </tr>\n",
       "    <tr>\n",
       "      <th>2</th>\n",
       "      <td>t2_2hrxxs28</td>\n",
       "      <td>through different doctors. My situation sucks ...</td>\n",
       "      <td>0</td>\n",
       "    </tr>\n",
       "    <tr>\n",
       "      <th>3</th>\n",
       "      <td>t2_4pxpgwz</td>\n",
       "      <td>i thought it was about the pebbleyeet guy the ...</td>\n",
       "      <td>0</td>\n",
       "    </tr>\n",
       "    <tr>\n",
       "      <th>4</th>\n",
       "      <td>t2_4pxpgwz</td>\n",
       "      <td>…i always end up voting wrong even as crewmate...</td>\n",
       "      <td>0</td>\n",
       "    </tr>\n",
       "    <tr>\n",
       "      <th>...</th>\n",
       "      <td>...</td>\n",
       "      <td>...</td>\n",
       "      <td>...</td>\n",
       "    </tr>\n",
       "    <tr>\n",
       "      <th>40447</th>\n",
       "      <td>t2_8xjvf</td>\n",
       "      <td>Professional Association** We do not allow per...</td>\n",
       "      <td>0</td>\n",
       "    </tr>\n",
       "    <tr>\n",
       "      <th>40448</th>\n",
       "      <td>t2_8xjvf</td>\n",
       "      <td>work on the artist's behalf. Please post this ...</td>\n",
       "      <td>0</td>\n",
       "    </tr>\n",
       "    <tr>\n",
       "      <th>40449</th>\n",
       "      <td>t2_8xjvf</td>\n",
       "      <td>* Chill * Alternative/Alt * LoFi * Electronic ...</td>\n",
       "      <td>0</td>\n",
       "    </tr>\n",
       "    <tr>\n",
       "      <th>40450</th>\n",
       "      <td>t2_8xjvf</td>\n",
       "      <td>without the ability to appeal. ___ ___ If you ...</td>\n",
       "      <td>0</td>\n",
       "    </tr>\n",
       "    <tr>\n",
       "      <th>40451</th>\n",
       "      <td>t2_8xjvf</td>\n",
       "      <td>support for that, especially given other tax r...</td>\n",
       "      <td>0</td>\n",
       "    </tr>\n",
       "  </tbody>\n",
       "</table>\n",
       "<p>40452 rows × 3 columns</p>\n",
       "</div>"
      ],
      "text/plain": [
       "         auhtor_ID                                               post  \\\n",
       "0      t2_2hrxxs28  I have a question, if you have no doctor, how'...   \n",
       "1      t2_2hrxxs28  butt to have Covid + your cycle. I'm not sure ...   \n",
       "2      t2_2hrxxs28  through different doctors. My situation sucks ...   \n",
       "3       t2_4pxpgwz  i thought it was about the pebbleyeet guy the ...   \n",
       "4       t2_4pxpgwz  …i always end up voting wrong even as crewmate...   \n",
       "...            ...                                                ...   \n",
       "40447     t2_8xjvf  Professional Association** We do not allow per...   \n",
       "40448     t2_8xjvf  work on the artist's behalf. Please post this ...   \n",
       "40449     t2_8xjvf  * Chill * Alternative/Alt * LoFi * Electronic ...   \n",
       "40450     t2_8xjvf  without the ability to appeal. ___ ___ If you ...   \n",
       "40451     t2_8xjvf  support for that, especially given other tax r...   \n",
       "\n",
       "       extrovert  \n",
       "0              0  \n",
       "1              0  \n",
       "2              0  \n",
       "3              0  \n",
       "4              0  \n",
       "...          ...  \n",
       "40447          0  \n",
       "40448          0  \n",
       "40449          0  \n",
       "40450          0  \n",
       "40451          0  \n",
       "\n",
       "[40452 rows x 3 columns]"
      ]
     },
     "execution_count": 7,
     "metadata": {},
     "output_type": "execute_result"
    }
   ],
   "source": [
    "df_extrovert_introvert\n",
    "\n",
    "\n"
   ]
  },
  {
   "cell_type": "code",
   "execution_count": 8,
   "metadata": {},
   "outputs": [],
   "source": [
    "df_extrovert_introvert\n",
    "\n",
    "# from df_extrovert_introvert, join together the posts of the same user and replace the posts with the joined posts but also keep extrovert column\n",
    "df_extrovert_introvert_joined = df_extrovert_introvert.groupby('auhtor_ID').agg({'post': ' '.join, 'extrovert': 'first'}).reset_index()\n",
    "\n",
    "# from df_feeling_thinking, join together the posts of the same user and replace the posts with the joined posts but also keep feeling column\n",
    "df_feeling_thinking_joined = df_feeling_thinking.groupby('auhtor_ID').agg({'post': ' '.join, 'feeling': 'first'}).reset_index()\n",
    "\n",
    "# from df_judging_perceiving, join together the posts of the same user and replace the posts with the joined posts but also keep judging column\n",
    "df_judging_perceiving_joined = df_judging_perceiving.groupby('auhtor_ID').agg({'post': ' '.join, 'judging': 'first'}).reset_index()\n",
    "\n",
    "# from df_sensing_intuitive, join together the posts of the same user and replace the posts with the joined posts but also keep sensing column\n",
    "df_sensing_intuitive_joined = df_sensing_intuitive.groupby('auhtor_ID').agg({'post': ' '.join, 'sensing': 'first'}).reset_index()"
   ]
  },
  {
   "cell_type": "code",
   "execution_count": 9,
   "metadata": {},
   "outputs": [
    {
     "data": {
      "text/html": [
       "<div>\n",
       "<style scoped>\n",
       "    .dataframe tbody tr th:only-of-type {\n",
       "        vertical-align: middle;\n",
       "    }\n",
       "\n",
       "    .dataframe tbody tr th {\n",
       "        vertical-align: top;\n",
       "    }\n",
       "\n",
       "    .dataframe thead th {\n",
       "        text-align: right;\n",
       "    }\n",
       "</style>\n",
       "<table border=\"1\" class=\"dataframe\">\n",
       "  <thead>\n",
       "    <tr style=\"text-align: right;\">\n",
       "      <th></th>\n",
       "      <th>auhtor_ID</th>\n",
       "      <th>post</th>\n",
       "      <th>extrovert</th>\n",
       "    </tr>\n",
       "  </thead>\n",
       "  <tbody>\n",
       "    <tr>\n",
       "      <th>18685</th>\n",
       "      <td>t2_104boi</td>\n",
       "      <td>No, not really... You can do drugs every day f...</td>\n",
       "      <td>0</td>\n",
       "    </tr>\n",
       "    <tr>\n",
       "      <th>18686</th>\n",
       "      <td>t2_104boi</td>\n",
       "      <td>the dry humor and go with it. Works for me. Hi...</td>\n",
       "      <td>0</td>\n",
       "    </tr>\n",
       "    <tr>\n",
       "      <th>18687</th>\n",
       "      <td>t2_104boi</td>\n",
       "      <td>the most introverted extroverts because they a...</td>\n",
       "      <td>0</td>\n",
       "    </tr>\n",
       "    <tr>\n",
       "      <th>18688</th>\n",
       "      <td>t2_104boi</td>\n",
       "      <td>powerful thing and I have to remember to focus...</td>\n",
       "      <td>0</td>\n",
       "    </tr>\n",
       "  </tbody>\n",
       "</table>\n",
       "</div>"
      ],
      "text/plain": [
       "       auhtor_ID                                               post  extrovert\n",
       "18685  t2_104boi  No, not really... You can do drugs every day f...          0\n",
       "18686  t2_104boi  the dry humor and go with it. Works for me. Hi...          0\n",
       "18687  t2_104boi  the most introverted extroverts because they a...          0\n",
       "18688  t2_104boi  powerful thing and I have to remember to focus...          0"
      ]
     },
     "execution_count": 9,
     "metadata": {},
     "output_type": "execute_result"
    }
   ],
   "source": [
    "df_extrovert_introvert[df_extrovert_introvert['auhtor_ID'] == 't2_104boi']"
   ]
  },
  {
   "cell_type": "code",
   "execution_count": 10,
   "metadata": {},
   "outputs": [],
   "source": [
    "# join all 4 dataframes together\n",
    "df_all = pd.merge(df_extrovert_introvert_joined, df_feeling_thinking_joined, on='auhtor_ID', how='outer', suffixes=('_extrovert', '_feeling'))\n",
    "df_all = pd.merge(df_all, df_judging_perceiving_joined, on='auhtor_ID', how='outer')\n",
    "df_all = pd.merge(df_all, df_sensing_intuitive_joined, on='auhtor_ID', how='outer', suffixes=('_judging', '_sensing'))\n",
    "# df_all = pd.merge(df_all, df_judging_perceiving_joined, on='auhtor_ID', how='outer')\n",
    "# df_all = pd.merge(df_all, df_sensing_intuitive_joined, on='auhtor_ID', how='outer')\n"
   ]
  },
  {
   "cell_type": "code",
   "execution_count": 11,
   "metadata": {},
   "outputs": [],
   "source": [
    "df_all_cleaned = df_all.dropna()"
   ]
  },
  {
   "cell_type": "code",
   "execution_count": 12,
   "metadata": {},
   "outputs": [
    {
     "data": {
      "text/html": [
       "<div>\n",
       "<style scoped>\n",
       "    .dataframe tbody tr th:only-of-type {\n",
       "        vertical-align: middle;\n",
       "    }\n",
       "\n",
       "    .dataframe tbody tr th {\n",
       "        vertical-align: top;\n",
       "    }\n",
       "\n",
       "    .dataframe thead th {\n",
       "        text-align: right;\n",
       "    }\n",
       "</style>\n",
       "<table border=\"1\" class=\"dataframe\">\n",
       "  <thead>\n",
       "    <tr style=\"text-align: right;\">\n",
       "      <th></th>\n",
       "      <th>auhtor_ID</th>\n",
       "      <th>post_extrovert</th>\n",
       "      <th>extrovert</th>\n",
       "      <th>post_feeling</th>\n",
       "      <th>feeling</th>\n",
       "      <th>post_judging</th>\n",
       "      <th>judging</th>\n",
       "      <th>post_sensing</th>\n",
       "      <th>sensing</th>\n",
       "    </tr>\n",
       "  </thead>\n",
       "  <tbody>\n",
       "    <tr>\n",
       "      <th>24</th>\n",
       "      <td>t2_12bhu7</td>\n",
       "      <td>I wear a Lorna shore shirt out alot in public ...</td>\n",
       "      <td>1.0</td>\n",
       "      <td>I wear a Lorna shore shirt out alot in public ...</td>\n",
       "      <td>1.0</td>\n",
       "      <td>I wear a Lorna shore shirt out alot in public ...</td>\n",
       "      <td>0.0</td>\n",
       "      <td>I wear a Lorna shore shirt out alot in public ...</td>\n",
       "      <td>0.0</td>\n",
       "    </tr>\n",
       "    <tr>\n",
       "      <th>28</th>\n",
       "      <td>t2_12jbpd</td>\n",
       "      <td>I'd say this is a very accurate characterizati...</td>\n",
       "      <td>1.0</td>\n",
       "      <td>I'd say this is a very accurate characterizati...</td>\n",
       "      <td>0.0</td>\n",
       "      <td>I'd say this is a very accurate characterizati...</td>\n",
       "      <td>0.0</td>\n",
       "      <td>I'd say this is a very accurate characterizati...</td>\n",
       "      <td>0.0</td>\n",
       "    </tr>\n",
       "    <tr>\n",
       "      <th>31</th>\n",
       "      <td>t2_12uwr5</td>\n",
       "      <td>Ya know like most people with home decorations...</td>\n",
       "      <td>0.0</td>\n",
       "      <td>Ya know like most people with home decorations...</td>\n",
       "      <td>0.0</td>\n",
       "      <td>Ya know like most people with home decorations...</td>\n",
       "      <td>1.0</td>\n",
       "      <td>Ya know like most people with home decorations...</td>\n",
       "      <td>0.0</td>\n",
       "    </tr>\n",
       "    <tr>\n",
       "      <th>32</th>\n",
       "      <td>t2_12zm15</td>\n",
       "      <td>It's true tho. They're kinda more interesting ...</td>\n",
       "      <td>0.0</td>\n",
       "      <td>It's true tho. They're kinda more interesting ...</td>\n",
       "      <td>1.0</td>\n",
       "      <td>It's true tho. They're kinda more interesting ...</td>\n",
       "      <td>0.0</td>\n",
       "      <td>It's true tho. They're kinda more interesting ...</td>\n",
       "      <td>0.0</td>\n",
       "    </tr>\n",
       "    <tr>\n",
       "      <th>39</th>\n",
       "      <td>t2_13cjjl</td>\n",
       "      <td>Yeah, but that's one of the things that make m...</td>\n",
       "      <td>0.0</td>\n",
       "      <td>Yeah, but that's one of the things that make m...</td>\n",
       "      <td>0.0</td>\n",
       "      <td>Yeah, but that's one of the things that make m...</td>\n",
       "      <td>0.0</td>\n",
       "      <td>Yeah, but that's one of the things that make m...</td>\n",
       "      <td>1.0</td>\n",
       "    </tr>\n",
       "    <tr>\n",
       "      <th>...</th>\n",
       "      <td>...</td>\n",
       "      <td>...</td>\n",
       "      <td>...</td>\n",
       "      <td>...</td>\n",
       "      <td>...</td>\n",
       "      <td>...</td>\n",
       "      <td>...</td>\n",
       "      <td>...</td>\n",
       "      <td>...</td>\n",
       "    </tr>\n",
       "    <tr>\n",
       "      <th>1952</th>\n",
       "      <td>t2_vfp8y</td>\n",
       "      <td>so change profession then. this would be inadm...</td>\n",
       "      <td>0.0</td>\n",
       "      <td>so change profession then. this would be inadm...</td>\n",
       "      <td>0.0</td>\n",
       "      <td>so change profession then. this would be inadm...</td>\n",
       "      <td>1.0</td>\n",
       "      <td>so change profession then. this would be inadm...</td>\n",
       "      <td>0.0</td>\n",
       "    </tr>\n",
       "    <tr>\n",
       "      <th>1956</th>\n",
       "      <td>t2_w0842</td>\n",
       "      <td>The technological singularity. And the possibi...</td>\n",
       "      <td>0.0</td>\n",
       "      <td>The technological singularity. And the possibi...</td>\n",
       "      <td>0.0</td>\n",
       "      <td>The technological singularity. And the possibi...</td>\n",
       "      <td>1.0</td>\n",
       "      <td>The technological singularity. And the possibi...</td>\n",
       "      <td>0.0</td>\n",
       "    </tr>\n",
       "    <tr>\n",
       "      <th>1957</th>\n",
       "      <td>t2_w6rgl</td>\n",
       "      <td>Dear God man. Chill. I'm not Einstein or Hawki...</td>\n",
       "      <td>0.0</td>\n",
       "      <td>Dear God man. Chill. I'm not Einstein or Hawki...</td>\n",
       "      <td>0.0</td>\n",
       "      <td>Dear God man. Chill. I'm not Einstein or Hawki...</td>\n",
       "      <td>1.0</td>\n",
       "      <td>Dear God man. Chill. I'm not Einstein or Hawki...</td>\n",
       "      <td>0.0</td>\n",
       "    </tr>\n",
       "    <tr>\n",
       "      <th>1963</th>\n",
       "      <td>t2_wilcwvo</td>\n",
       "      <td>That's what a fake lib would say [Human blood ...</td>\n",
       "      <td>1.0</td>\n",
       "      <td>That's what a fake lib would say [Human blood ...</td>\n",
       "      <td>0.0</td>\n",
       "      <td>That's what a fake lib would say [Human blood ...</td>\n",
       "      <td>0.0</td>\n",
       "      <td>That's what a fake lib would say [Human blood ...</td>\n",
       "      <td>0.0</td>\n",
       "    </tr>\n",
       "    <tr>\n",
       "      <th>1990</th>\n",
       "      <td>t2_zq7gkv</td>\n",
       "      <td>My biggest problem is asking for it. I don’t n...</td>\n",
       "      <td>1.0</td>\n",
       "      <td>My biggest problem is asking for it. I don’t n...</td>\n",
       "      <td>1.0</td>\n",
       "      <td>My biggest problem is asking for it. I don’t n...</td>\n",
       "      <td>1.0</td>\n",
       "      <td>My biggest problem is asking for it. I don’t n...</td>\n",
       "      <td>0.0</td>\n",
       "    </tr>\n",
       "  </tbody>\n",
       "</table>\n",
       "<p>155 rows × 9 columns</p>\n",
       "</div>"
      ],
      "text/plain": [
       "       auhtor_ID                                     post_extrovert  \\\n",
       "24     t2_12bhu7  I wear a Lorna shore shirt out alot in public ...   \n",
       "28     t2_12jbpd  I'd say this is a very accurate characterizati...   \n",
       "31     t2_12uwr5  Ya know like most people with home decorations...   \n",
       "32     t2_12zm15  It's true tho. They're kinda more interesting ...   \n",
       "39     t2_13cjjl  Yeah, but that's one of the things that make m...   \n",
       "...          ...                                                ...   \n",
       "1952    t2_vfp8y  so change profession then. this would be inadm...   \n",
       "1956    t2_w0842  The technological singularity. And the possibi...   \n",
       "1957    t2_w6rgl  Dear God man. Chill. I'm not Einstein or Hawki...   \n",
       "1963  t2_wilcwvo  That's what a fake lib would say [Human blood ...   \n",
       "1990   t2_zq7gkv  My biggest problem is asking for it. I don’t n...   \n",
       "\n",
       "      extrovert                                       post_feeling  feeling  \\\n",
       "24          1.0  I wear a Lorna shore shirt out alot in public ...      1.0   \n",
       "28          1.0  I'd say this is a very accurate characterizati...      0.0   \n",
       "31          0.0  Ya know like most people with home decorations...      0.0   \n",
       "32          0.0  It's true tho. They're kinda more interesting ...      1.0   \n",
       "39          0.0  Yeah, but that's one of the things that make m...      0.0   \n",
       "...         ...                                                ...      ...   \n",
       "1952        0.0  so change profession then. this would be inadm...      0.0   \n",
       "1956        0.0  The technological singularity. And the possibi...      0.0   \n",
       "1957        0.0  Dear God man. Chill. I'm not Einstein or Hawki...      0.0   \n",
       "1963        1.0  That's what a fake lib would say [Human blood ...      0.0   \n",
       "1990        1.0  My biggest problem is asking for it. I don’t n...      1.0   \n",
       "\n",
       "                                           post_judging  judging  \\\n",
       "24    I wear a Lorna shore shirt out alot in public ...      0.0   \n",
       "28    I'd say this is a very accurate characterizati...      0.0   \n",
       "31    Ya know like most people with home decorations...      1.0   \n",
       "32    It's true tho. They're kinda more interesting ...      0.0   \n",
       "39    Yeah, but that's one of the things that make m...      0.0   \n",
       "...                                                 ...      ...   \n",
       "1952  so change profession then. this would be inadm...      1.0   \n",
       "1956  The technological singularity. And the possibi...      1.0   \n",
       "1957  Dear God man. Chill. I'm not Einstein or Hawki...      1.0   \n",
       "1963  That's what a fake lib would say [Human blood ...      0.0   \n",
       "1990  My biggest problem is asking for it. I don’t n...      1.0   \n",
       "\n",
       "                                           post_sensing  sensing  \n",
       "24    I wear a Lorna shore shirt out alot in public ...      0.0  \n",
       "28    I'd say this is a very accurate characterizati...      0.0  \n",
       "31    Ya know like most people with home decorations...      0.0  \n",
       "32    It's true tho. They're kinda more interesting ...      0.0  \n",
       "39    Yeah, but that's one of the things that make m...      1.0  \n",
       "...                                                 ...      ...  \n",
       "1952  so change profession then. this would be inadm...      0.0  \n",
       "1956  The technological singularity. And the possibi...      0.0  \n",
       "1957  Dear God man. Chill. I'm not Einstein or Hawki...      0.0  \n",
       "1963  That's what a fake lib would say [Human blood ...      0.0  \n",
       "1990  My biggest problem is asking for it. I don’t n...      0.0  \n",
       "\n",
       "[155 rows x 9 columns]"
      ]
     },
     "execution_count": 12,
     "metadata": {},
     "output_type": "execute_result"
    }
   ],
   "source": [
    "df_all_cleaned"
   ]
  },
  {
   "cell_type": "code",
   "execution_count": 14,
   "metadata": {},
   "outputs": [
    {
     "name": "stderr",
     "output_type": "stream",
     "text": [
      "[nltk_data] Downloading package wordnet to\n",
      "[nltk_data]     C:\\Users\\20212397\\AppData\\Roaming\\nltk_data...\n",
      "[nltk_data]   Package wordnet is already up-to-date!\n"
     ]
    },
    {
     "data": {
      "text/plain": [
       "True"
      ]
     },
     "execution_count": 14,
     "metadata": {},
     "output_type": "execute_result"
    }
   ],
   "source": [
    "import gensim\n",
    "from gensim.utils import simple_preprocess\n",
    "from gensim.parsing.preprocessing import STOPWORDS\n",
    "from nltk.stem import WordNetLemmatizer, SnowballStemmer\n",
    "from nltk.stem.porter import *\n",
    "import numpy as np\n",
    "np.random.seed(400)\n",
    "import nltk\n",
    "nltk.download('wordnet')\n",
    "\n"
   ]
  },
  {
   "cell_type": "code",
   "execution_count": null,
   "metadata": {},
   "outputs": [],
   "source": []
  }
 ],
 "metadata": {
  "kernelspec": {
   "display_name": "DC3",
   "language": "python",
   "name": "python3"
  },
  "language_info": {
   "codemirror_mode": {
    "name": "ipython",
    "version": 3
   },
   "file_extension": ".py",
   "mimetype": "text/x-python",
   "name": "python",
   "nbconvert_exporter": "python",
   "pygments_lexer": "ipython3",
   "version": "3.11.7"
  }
 },
 "nbformat": 4,
 "nbformat_minor": 2
}
