{
 "cells": [
  {
   "cell_type": "code",
   "execution_count": 2,
   "metadata": {},
   "outputs": [],
   "source": [
    "# get test data from csv file\n",
    "import pandas as pd \n",
    "\n",
    "baseline_df = pd.read_csv('data/personality.csv')\n",
    "\n"
   ]
  },
  {
   "cell_type": "code",
   "execution_count": 3,
   "metadata": {},
   "outputs": [
    {
     "data": {
      "text/html": [
       "<div>\n",
       "<style scoped>\n",
       "    .dataframe tbody tr th:only-of-type {\n",
       "        vertical-align: middle;\n",
       "    }\n",
       "\n",
       "    .dataframe tbody tr th {\n",
       "        vertical-align: top;\n",
       "    }\n",
       "\n",
       "    .dataframe thead th {\n",
       "        text-align: right;\n",
       "    }\n",
       "</style>\n",
       "<table border=\"1\" class=\"dataframe\">\n",
       "  <thead>\n",
       "    <tr style=\"text-align: right;\">\n",
       "      <th></th>\n",
       "      <th>auhtor_ID</th>\n",
       "      <th>post_extrovert</th>\n",
       "      <th>extrovert</th>\n",
       "      <th>post_feeling</th>\n",
       "      <th>feeling</th>\n",
       "      <th>post_judging</th>\n",
       "      <th>judging</th>\n",
       "      <th>post_sensing</th>\n",
       "      <th>sensing</th>\n",
       "    </tr>\n",
       "  </thead>\n",
       "  <tbody>\n",
       "    <tr>\n",
       "      <th>0</th>\n",
       "      <td>t2_12bhu7</td>\n",
       "      <td>I wear a Lorna shore shirt out alot in public ...</td>\n",
       "      <td>1.0</td>\n",
       "      <td>I wear a Lorna shore shirt out alot in public ...</td>\n",
       "      <td>1.0</td>\n",
       "      <td>I wear a Lorna shore shirt out alot in public ...</td>\n",
       "      <td>0.0</td>\n",
       "      <td>I wear a Lorna shore shirt out alot in public ...</td>\n",
       "      <td>0.0</td>\n",
       "    </tr>\n",
       "    <tr>\n",
       "      <th>1</th>\n",
       "      <td>t2_12jbpd</td>\n",
       "      <td>I'd say this is a very accurate characterizati...</td>\n",
       "      <td>1.0</td>\n",
       "      <td>I'd say this is a very accurate characterizati...</td>\n",
       "      <td>0.0</td>\n",
       "      <td>I'd say this is a very accurate characterizati...</td>\n",
       "      <td>0.0</td>\n",
       "      <td>I'd say this is a very accurate characterizati...</td>\n",
       "      <td>0.0</td>\n",
       "    </tr>\n",
       "    <tr>\n",
       "      <th>2</th>\n",
       "      <td>t2_12uwr5</td>\n",
       "      <td>Ya know like most people with home decorations...</td>\n",
       "      <td>0.0</td>\n",
       "      <td>Ya know like most people with home decorations...</td>\n",
       "      <td>0.0</td>\n",
       "      <td>Ya know like most people with home decorations...</td>\n",
       "      <td>1.0</td>\n",
       "      <td>Ya know like most people with home decorations...</td>\n",
       "      <td>0.0</td>\n",
       "    </tr>\n",
       "    <tr>\n",
       "      <th>3</th>\n",
       "      <td>t2_12zm15</td>\n",
       "      <td>It's true tho. They're kinda more interesting ...</td>\n",
       "      <td>0.0</td>\n",
       "      <td>It's true tho. They're kinda more interesting ...</td>\n",
       "      <td>1.0</td>\n",
       "      <td>It's true tho. They're kinda more interesting ...</td>\n",
       "      <td>0.0</td>\n",
       "      <td>It's true tho. They're kinda more interesting ...</td>\n",
       "      <td>0.0</td>\n",
       "    </tr>\n",
       "    <tr>\n",
       "      <th>4</th>\n",
       "      <td>t2_13cjjl</td>\n",
       "      <td>Yeah, but that's one of the things that make m...</td>\n",
       "      <td>0.0</td>\n",
       "      <td>Yeah, but that's one of the things that make m...</td>\n",
       "      <td>0.0</td>\n",
       "      <td>Yeah, but that's one of the things that make m...</td>\n",
       "      <td>0.0</td>\n",
       "      <td>Yeah, but that's one of the things that make m...</td>\n",
       "      <td>1.0</td>\n",
       "    </tr>\n",
       "    <tr>\n",
       "      <th>...</th>\n",
       "      <td>...</td>\n",
       "      <td>...</td>\n",
       "      <td>...</td>\n",
       "      <td>...</td>\n",
       "      <td>...</td>\n",
       "      <td>...</td>\n",
       "      <td>...</td>\n",
       "      <td>...</td>\n",
       "      <td>...</td>\n",
       "    </tr>\n",
       "    <tr>\n",
       "      <th>150</th>\n",
       "      <td>t2_vfp8y</td>\n",
       "      <td>so change profession then. this would be inadm...</td>\n",
       "      <td>0.0</td>\n",
       "      <td>so change profession then. this would be inadm...</td>\n",
       "      <td>0.0</td>\n",
       "      <td>so change profession then. this would be inadm...</td>\n",
       "      <td>1.0</td>\n",
       "      <td>so change profession then. this would be inadm...</td>\n",
       "      <td>0.0</td>\n",
       "    </tr>\n",
       "    <tr>\n",
       "      <th>151</th>\n",
       "      <td>t2_w0842</td>\n",
       "      <td>The technological singularity. And the possibi...</td>\n",
       "      <td>0.0</td>\n",
       "      <td>The technological singularity. And the possibi...</td>\n",
       "      <td>0.0</td>\n",
       "      <td>The technological singularity. And the possibi...</td>\n",
       "      <td>1.0</td>\n",
       "      <td>The technological singularity. And the possibi...</td>\n",
       "      <td>0.0</td>\n",
       "    </tr>\n",
       "    <tr>\n",
       "      <th>152</th>\n",
       "      <td>t2_w6rgl</td>\n",
       "      <td>Dear God man. Chill. I'm not Einstein or Hawki...</td>\n",
       "      <td>0.0</td>\n",
       "      <td>Dear God man. Chill. I'm not Einstein or Hawki...</td>\n",
       "      <td>0.0</td>\n",
       "      <td>Dear God man. Chill. I'm not Einstein or Hawki...</td>\n",
       "      <td>1.0</td>\n",
       "      <td>Dear God man. Chill. I'm not Einstein or Hawki...</td>\n",
       "      <td>0.0</td>\n",
       "    </tr>\n",
       "    <tr>\n",
       "      <th>153</th>\n",
       "      <td>t2_wilcwvo</td>\n",
       "      <td>That's what a fake lib would say [Human blood ...</td>\n",
       "      <td>1.0</td>\n",
       "      <td>That's what a fake lib would say [Human blood ...</td>\n",
       "      <td>0.0</td>\n",
       "      <td>That's what a fake lib would say [Human blood ...</td>\n",
       "      <td>0.0</td>\n",
       "      <td>That's what a fake lib would say [Human blood ...</td>\n",
       "      <td>0.0</td>\n",
       "    </tr>\n",
       "    <tr>\n",
       "      <th>154</th>\n",
       "      <td>t2_zq7gkv</td>\n",
       "      <td>My biggest problem is asking for it. I don’t n...</td>\n",
       "      <td>1.0</td>\n",
       "      <td>My biggest problem is asking for it. I don’t n...</td>\n",
       "      <td>1.0</td>\n",
       "      <td>My biggest problem is asking for it. I don’t n...</td>\n",
       "      <td>1.0</td>\n",
       "      <td>My biggest problem is asking for it. I don’t n...</td>\n",
       "      <td>0.0</td>\n",
       "    </tr>\n",
       "  </tbody>\n",
       "</table>\n",
       "<p>155 rows × 9 columns</p>\n",
       "</div>"
      ],
      "text/plain": [
       "      auhtor_ID                                     post_extrovert  extrovert  \\\n",
       "0     t2_12bhu7  I wear a Lorna shore shirt out alot in public ...        1.0   \n",
       "1     t2_12jbpd  I'd say this is a very accurate characterizati...        1.0   \n",
       "2     t2_12uwr5  Ya know like most people with home decorations...        0.0   \n",
       "3     t2_12zm15  It's true tho. They're kinda more interesting ...        0.0   \n",
       "4     t2_13cjjl  Yeah, but that's one of the things that make m...        0.0   \n",
       "..          ...                                                ...        ...   \n",
       "150    t2_vfp8y  so change profession then. this would be inadm...        0.0   \n",
       "151    t2_w0842  The technological singularity. And the possibi...        0.0   \n",
       "152    t2_w6rgl  Dear God man. Chill. I'm not Einstein or Hawki...        0.0   \n",
       "153  t2_wilcwvo  That's what a fake lib would say [Human blood ...        1.0   \n",
       "154   t2_zq7gkv  My biggest problem is asking for it. I don’t n...        1.0   \n",
       "\n",
       "                                          post_feeling  feeling  \\\n",
       "0    I wear a Lorna shore shirt out alot in public ...      1.0   \n",
       "1    I'd say this is a very accurate characterizati...      0.0   \n",
       "2    Ya know like most people with home decorations...      0.0   \n",
       "3    It's true tho. They're kinda more interesting ...      1.0   \n",
       "4    Yeah, but that's one of the things that make m...      0.0   \n",
       "..                                                 ...      ...   \n",
       "150  so change profession then. this would be inadm...      0.0   \n",
       "151  The technological singularity. And the possibi...      0.0   \n",
       "152  Dear God man. Chill. I'm not Einstein or Hawki...      0.0   \n",
       "153  That's what a fake lib would say [Human blood ...      0.0   \n",
       "154  My biggest problem is asking for it. I don’t n...      1.0   \n",
       "\n",
       "                                          post_judging  judging  \\\n",
       "0    I wear a Lorna shore shirt out alot in public ...      0.0   \n",
       "1    I'd say this is a very accurate characterizati...      0.0   \n",
       "2    Ya know like most people with home decorations...      1.0   \n",
       "3    It's true tho. They're kinda more interesting ...      0.0   \n",
       "4    Yeah, but that's one of the things that make m...      0.0   \n",
       "..                                                 ...      ...   \n",
       "150  so change profession then. this would be inadm...      1.0   \n",
       "151  The technological singularity. And the possibi...      1.0   \n",
       "152  Dear God man. Chill. I'm not Einstein or Hawki...      1.0   \n",
       "153  That's what a fake lib would say [Human blood ...      0.0   \n",
       "154  My biggest problem is asking for it. I don’t n...      1.0   \n",
       "\n",
       "                                          post_sensing  sensing  \n",
       "0    I wear a Lorna shore shirt out alot in public ...      0.0  \n",
       "1    I'd say this is a very accurate characterizati...      0.0  \n",
       "2    Ya know like most people with home decorations...      0.0  \n",
       "3    It's true tho. They're kinda more interesting ...      0.0  \n",
       "4    Yeah, but that's one of the things that make m...      1.0  \n",
       "..                                                 ...      ...  \n",
       "150  so change profession then. this would be inadm...      0.0  \n",
       "151  The technological singularity. And the possibi...      0.0  \n",
       "152  Dear God man. Chill. I'm not Einstein or Hawki...      0.0  \n",
       "153  That's what a fake lib would say [Human blood ...      0.0  \n",
       "154  My biggest problem is asking for it. I don’t n...      0.0  \n",
       "\n",
       "[155 rows x 9 columns]"
      ]
     },
     "execution_count": 3,
     "metadata": {},
     "output_type": "execute_result"
    }
   ],
   "source": [
    "baseline_df"
   ]
  },
  {
   "cell_type": "code",
   "execution_count": 9,
   "metadata": {},
   "outputs": [
    {
     "data": {
      "text/plain": [
       "extrovert\n",
       "0.0    117\n",
       "1.0     38\n",
       "Name: count, dtype: int64"
      ]
     },
     "execution_count": 9,
     "metadata": {},
     "output_type": "execute_result"
    }
   ],
   "source": [
    "baseline_df['extrovert'].value_counts()"
   ]
  },
  {
   "cell_type": "code",
   "execution_count": 10,
   "metadata": {},
   "outputs": [
    {
     "data": {
      "text/plain": [
       "feeling\n",
       "0.0    109\n",
       "1.0     46\n",
       "Name: count, dtype: int64"
      ]
     },
     "execution_count": 10,
     "metadata": {},
     "output_type": "execute_result"
    }
   ],
   "source": [
    "baseline_df['feeling'].value_counts()"
   ]
  },
  {
   "cell_type": "code",
   "execution_count": 11,
   "metadata": {},
   "outputs": [
    {
     "data": {
      "text/plain": [
       "judging\n",
       "1.0    94\n",
       "0.0    61\n",
       "Name: count, dtype: int64"
      ]
     },
     "execution_count": 11,
     "metadata": {},
     "output_type": "execute_result"
    }
   ],
   "source": [
    "baseline_df['judging'].value_counts()"
   ]
  },
  {
   "cell_type": "code",
   "execution_count": 12,
   "metadata": {},
   "outputs": [
    {
     "data": {
      "text/plain": [
       "sensing\n",
       "0.0    137\n",
       "1.0     18\n",
       "Name: count, dtype: int64"
      ]
     },
     "execution_count": 12,
     "metadata": {},
     "output_type": "execute_result"
    }
   ],
   "source": [
    "baseline_df['sensing'].value_counts()"
   ]
  },
  {
   "cell_type": "code",
   "execution_count": 17,
   "metadata": {},
   "outputs": [],
   "source": [
    "y_pred_0 = [0] * len(baseline_df) # this is for extrovert, feeling and sensing\n",
    "y_pred_1 = [1] * len(baseline_df) # this is for judging"
   ]
  },
  {
   "cell_type": "code",
   "execution_count": 20,
   "metadata": {},
   "outputs": [
    {
     "name": "stdout",
     "output_type": "stream",
     "text": [
      "Extrovert\n",
      "              precision    recall  f1-score   support\n",
      "\n",
      "         0.0       0.75      1.00      0.86       117\n",
      "         1.0       0.00      0.00      0.00        38\n",
      "\n",
      "    accuracy                           0.75       155\n",
      "   macro avg       0.38      0.50      0.43       155\n",
      "weighted avg       0.57      0.75      0.65       155\n",
      "\n"
     ]
    },
    {
     "name": "stderr",
     "output_type": "stream",
     "text": [
      "c:\\Users\\dimit\\anaconda3\\envs\\DC3\\Lib\\site-packages\\sklearn\\metrics\\_classification.py:1469: UndefinedMetricWarning: Precision and F-score are ill-defined and being set to 0.0 in labels with no predicted samples. Use `zero_division` parameter to control this behavior.\n",
      "  _warn_prf(average, modifier, msg_start, len(result))\n",
      "c:\\Users\\dimit\\anaconda3\\envs\\DC3\\Lib\\site-packages\\sklearn\\metrics\\_classification.py:1469: UndefinedMetricWarning: Precision and F-score are ill-defined and being set to 0.0 in labels with no predicted samples. Use `zero_division` parameter to control this behavior.\n",
      "  _warn_prf(average, modifier, msg_start, len(result))\n",
      "c:\\Users\\dimit\\anaconda3\\envs\\DC3\\Lib\\site-packages\\sklearn\\metrics\\_classification.py:1469: UndefinedMetricWarning: Precision and F-score are ill-defined and being set to 0.0 in labels with no predicted samples. Use `zero_division` parameter to control this behavior.\n",
      "  _warn_prf(average, modifier, msg_start, len(result))\n"
     ]
    }
   ],
   "source": [
    "# get majority classification report for each personality trait\n",
    "from sklearn.metrics import classification_report\n",
    "\n",
    "print('Extrovert')\n",
    "print(classification_report(baseline_df['extrovert'], y_pred_0))\n"
   ]
  },
  {
   "cell_type": "code",
   "execution_count": 21,
   "metadata": {},
   "outputs": [
    {
     "name": "stdout",
     "output_type": "stream",
     "text": [
      "Feeling\n",
      "              precision    recall  f1-score   support\n",
      "\n",
      "         0.0       0.70      1.00      0.83       109\n",
      "         1.0       0.00      0.00      0.00        46\n",
      "\n",
      "    accuracy                           0.70       155\n",
      "   macro avg       0.35      0.50      0.41       155\n",
      "weighted avg       0.49      0.70      0.58       155\n",
      "\n"
     ]
    },
    {
     "name": "stderr",
     "output_type": "stream",
     "text": [
      "c:\\Users\\dimit\\anaconda3\\envs\\DC3\\Lib\\site-packages\\sklearn\\metrics\\_classification.py:1469: UndefinedMetricWarning: Precision and F-score are ill-defined and being set to 0.0 in labels with no predicted samples. Use `zero_division` parameter to control this behavior.\n",
      "  _warn_prf(average, modifier, msg_start, len(result))\n",
      "c:\\Users\\dimit\\anaconda3\\envs\\DC3\\Lib\\site-packages\\sklearn\\metrics\\_classification.py:1469: UndefinedMetricWarning: Precision and F-score are ill-defined and being set to 0.0 in labels with no predicted samples. Use `zero_division` parameter to control this behavior.\n",
      "  _warn_prf(average, modifier, msg_start, len(result))\n",
      "c:\\Users\\dimit\\anaconda3\\envs\\DC3\\Lib\\site-packages\\sklearn\\metrics\\_classification.py:1469: UndefinedMetricWarning: Precision and F-score are ill-defined and being set to 0.0 in labels with no predicted samples. Use `zero_division` parameter to control this behavior.\n",
      "  _warn_prf(average, modifier, msg_start, len(result))\n"
     ]
    }
   ],
   "source": [
    "print('Feeling')\n",
    "print(classification_report(baseline_df['feeling'], y_pred_0))"
   ]
  },
  {
   "cell_type": "code",
   "execution_count": 22,
   "metadata": {},
   "outputs": [
    {
     "name": "stdout",
     "output_type": "stream",
     "text": [
      "Judging\n",
      "              precision    recall  f1-score   support\n",
      "\n",
      "         0.0       0.00      0.00      0.00        61\n",
      "         1.0       0.61      1.00      0.76        94\n",
      "\n",
      "    accuracy                           0.61       155\n",
      "   macro avg       0.30      0.50      0.38       155\n",
      "weighted avg       0.37      0.61      0.46       155\n",
      "\n"
     ]
    },
    {
     "name": "stderr",
     "output_type": "stream",
     "text": [
      "c:\\Users\\dimit\\anaconda3\\envs\\DC3\\Lib\\site-packages\\sklearn\\metrics\\_classification.py:1469: UndefinedMetricWarning: Precision and F-score are ill-defined and being set to 0.0 in labels with no predicted samples. Use `zero_division` parameter to control this behavior.\n",
      "  _warn_prf(average, modifier, msg_start, len(result))\n",
      "c:\\Users\\dimit\\anaconda3\\envs\\DC3\\Lib\\site-packages\\sklearn\\metrics\\_classification.py:1469: UndefinedMetricWarning: Precision and F-score are ill-defined and being set to 0.0 in labels with no predicted samples. Use `zero_division` parameter to control this behavior.\n",
      "  _warn_prf(average, modifier, msg_start, len(result))\n",
      "c:\\Users\\dimit\\anaconda3\\envs\\DC3\\Lib\\site-packages\\sklearn\\metrics\\_classification.py:1469: UndefinedMetricWarning: Precision and F-score are ill-defined and being set to 0.0 in labels with no predicted samples. Use `zero_division` parameter to control this behavior.\n",
      "  _warn_prf(average, modifier, msg_start, len(result))\n"
     ]
    }
   ],
   "source": [
    "print('Judging')\n",
    "print(classification_report(baseline_df['judging'], y_pred_1))"
   ]
  },
  {
   "cell_type": "code",
   "execution_count": 23,
   "metadata": {},
   "outputs": [
    {
     "name": "stdout",
     "output_type": "stream",
     "text": [
      "Sensing\n",
      "              precision    recall  f1-score   support\n",
      "\n",
      "         0.0       0.88      1.00      0.94       137\n",
      "         1.0       0.00      0.00      0.00        18\n",
      "\n",
      "    accuracy                           0.88       155\n",
      "   macro avg       0.44      0.50      0.47       155\n",
      "weighted avg       0.78      0.88      0.83       155\n",
      "\n"
     ]
    },
    {
     "name": "stderr",
     "output_type": "stream",
     "text": [
      "c:\\Users\\dimit\\anaconda3\\envs\\DC3\\Lib\\site-packages\\sklearn\\metrics\\_classification.py:1469: UndefinedMetricWarning: Precision and F-score are ill-defined and being set to 0.0 in labels with no predicted samples. Use `zero_division` parameter to control this behavior.\n",
      "  _warn_prf(average, modifier, msg_start, len(result))\n",
      "c:\\Users\\dimit\\anaconda3\\envs\\DC3\\Lib\\site-packages\\sklearn\\metrics\\_classification.py:1469: UndefinedMetricWarning: Precision and F-score are ill-defined and being set to 0.0 in labels with no predicted samples. Use `zero_division` parameter to control this behavior.\n",
      "  _warn_prf(average, modifier, msg_start, len(result))\n",
      "c:\\Users\\dimit\\anaconda3\\envs\\DC3\\Lib\\site-packages\\sklearn\\metrics\\_classification.py:1469: UndefinedMetricWarning: Precision and F-score are ill-defined and being set to 0.0 in labels with no predicted samples. Use `zero_division` parameter to control this behavior.\n",
      "  _warn_prf(average, modifier, msg_start, len(result))\n"
     ]
    }
   ],
   "source": [
    "print('Sensing')\n",
    "print(classification_report(baseline_df['sensing'], y_pred_0))"
   ]
  },
  {
   "cell_type": "code",
   "execution_count": 24,
   "metadata": {},
   "outputs": [],
   "source": [
    "# predictions on the most common personality type\n",
    "y_pred_personality = ['0010'] * len(baseline_df)"
   ]
  },
  {
   "cell_type": "code",
   "execution_count": 25,
   "metadata": {},
   "outputs": [],
   "source": [
    "# extrovert, feeling, judging, sensing transform to int\n",
    "baseline_df['extrovert'] = baseline_df['extrovert'].astype(int)\n",
    "baseline_df['feeling'] = baseline_df['feeling'].astype(int)\n",
    "baseline_df['judging'] = baseline_df['judging'].astype(int)\n",
    "baseline_df['sensing'] = baseline_df['sensing'].astype(int)\n",
    "\n",
    "baseline_df['personality'] = baseline_df['extrovert'].astype(str) + baseline_df['feeling'].astype(str) + baseline_df['judging'].astype(str) + baseline_df['sensing'].astype(str)"
   ]
  },
  {
   "cell_type": "code",
   "execution_count": 27,
   "metadata": {},
   "outputs": [
    {
     "name": "stdout",
     "output_type": "stream",
     "text": [
      "Personality\n",
      "              precision    recall  f1-score   support\n",
      "\n",
      "        0000       0.00      0.00      0.00         5\n",
      "        0001       0.00      0.00      0.00        14\n",
      "        0010       0.36      1.00      0.53        56\n",
      "        0100       0.00      0.00      0.00         8\n",
      "        0110       0.00      0.00      0.00        32\n",
      "        0111       0.00      0.00      0.00         2\n",
      "        1000       0.00      0.00      0.00        29\n",
      "        1001       0.00      0.00      0.00         2\n",
      "        1010       0.00      0.00      0.00         3\n",
      "        1100       0.00      0.00      0.00         3\n",
      "        1110       0.00      0.00      0.00         1\n",
      "\n",
      "    accuracy                           0.36       155\n",
      "   macro avg       0.03      0.09      0.05       155\n",
      "weighted avg       0.13      0.36      0.19       155\n",
      "\n"
     ]
    },
    {
     "name": "stderr",
     "output_type": "stream",
     "text": [
      "c:\\Users\\dimit\\anaconda3\\envs\\DC3\\Lib\\site-packages\\sklearn\\metrics\\_classification.py:1469: UndefinedMetricWarning: Precision and F-score are ill-defined and being set to 0.0 in labels with no predicted samples. Use `zero_division` parameter to control this behavior.\n",
      "  _warn_prf(average, modifier, msg_start, len(result))\n",
      "c:\\Users\\dimit\\anaconda3\\envs\\DC3\\Lib\\site-packages\\sklearn\\metrics\\_classification.py:1469: UndefinedMetricWarning: Precision and F-score are ill-defined and being set to 0.0 in labels with no predicted samples. Use `zero_division` parameter to control this behavior.\n",
      "  _warn_prf(average, modifier, msg_start, len(result))\n",
      "c:\\Users\\dimit\\anaconda3\\envs\\DC3\\Lib\\site-packages\\sklearn\\metrics\\_classification.py:1469: UndefinedMetricWarning: Precision and F-score are ill-defined and being set to 0.0 in labels with no predicted samples. Use `zero_division` parameter to control this behavior.\n",
      "  _warn_prf(average, modifier, msg_start, len(result))\n"
     ]
    }
   ],
   "source": [
    "print('Personality')\n",
    "print(classification_report(baseline_df['personality'], y_pred_personality))"
   ]
  },
  {
   "cell_type": "code",
   "execution_count": 29,
   "metadata": {},
   "outputs": [
    {
     "data": {
      "text/plain": [
       "{1: 5, 2: 54, 4: 56, 3: 40}"
      ]
     },
     "execution_count": 29,
     "metadata": {},
     "output_type": "execute_result"
    }
   ],
   "source": [
    "distribution = {}\n",
    "\n",
    "for y_actual, y_pred in zip(baseline_df['personality'], y_pred_personality):\n",
    "    counter = 0\n",
    "    for i in range(4):\n",
    "        if y_actual[i] == y_pred[i]:\n",
    "            counter += 1\n",
    "    \n",
    "    if counter in distribution:\n",
    "        distribution[counter] += 1\n",
    "        \n",
    "    else:\n",
    "        distribution[counter] = 1\n",
    "\n",
    "distribution\n",
    "        "
   ]
  },
  {
   "cell_type": "code",
   "execution_count": 30,
   "metadata": {},
   "outputs": [
    {
     "data": {
      "image/png": "[encoded data removed]",
      "text/plain": [
       "<Figure size 640x480 with 1 Axes>"
      ]
     },
     "metadata": {},
     "output_type": "display_data"
    }
   ],
   "source": [
    "# create bar chart for distribution, show as percentages\n",
    "import matplotlib.pyplot as plt\n",
    "\n",
    "plt.bar(distribution.keys(), distribution.values())\n",
    "plt.xticks([0, 1, 2, 3, 4])\n",
    "plt.xlabel('Number of correct predictions')\n",
    "plt.ylabel('Number of users')\n",
    "plt.ylim(0, 70)\n",
    "plt.title('Distribution of correct personality predictions')\n",
    "plt.show()\n"
   ]
  },
  {
   "cell_type": "code",
   "execution_count": 31,
   "metadata": {},
   "outputs": [
    {
     "data": {
      "text/plain": [
       "0.6193548387096774"
      ]
     },
     "execution_count": 31,
     "metadata": {},
     "output_type": "execute_result"
    }
   ],
   "source": [
    "(distribution[3] + distribution[4]) / sum(distribution.values())"
   ]
  }
 ],
 "metadata": {
  "kernelspec": {
   "display_name": "DC3",
   "language": "python",
   "name": "python3"
  },
  "language_info": {
   "codemirror_mode": {
    "name": "ipython",
    "version": 3
   },
   "file_extension": ".py",
   "mimetype": "text/x-python",
   "name": "python",
   "nbconvert_exporter": "python",
   "pygments_lexer": "ipython3",
   "version": "3.11.5"
  }
 },
 "nbformat": 4,
 "nbformat_minor": 2
}
