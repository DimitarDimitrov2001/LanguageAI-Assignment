{
 "cells": [
  {
   "cell_type": "code",
   "execution_count": 1,
   "metadata": {},
   "outputs": [
    {
     "name": "stderr",
     "output_type": "stream",
     "text": [
      "c:\\Users\\izzfa\\anaconda3\\envs\\DC3\\lib\\site-packages\\umap\\distances.py:1063: NumbaDeprecationWarning: \u001b[1mThe 'nopython' keyword argument was not supplied to the 'numba.jit' decorator. The implicit default value for this argument is currently False, but it will be changed to True in Numba 0.59.0. See https://numba.readthedocs.io/en/stable/reference/deprecation.html#deprecation-of-object-mode-fall-back-behaviour-when-using-jit for details.\u001b[0m\n",
      "  @numba.jit()\n",
      "c:\\Users\\izzfa\\anaconda3\\envs\\DC3\\lib\\site-packages\\umap\\distances.py:1071: NumbaDeprecationWarning: \u001b[1mThe 'nopython' keyword argument was not supplied to the 'numba.jit' decorator. The implicit default value for this argument is currently False, but it will be changed to True in Numba 0.59.0. See https://numba.readthedocs.io/en/stable/reference/deprecation.html#deprecation-of-object-mode-fall-back-behaviour-when-using-jit for details.\u001b[0m\n",
      "  @numba.jit()\n",
      "c:\\Users\\izzfa\\anaconda3\\envs\\DC3\\lib\\site-packages\\umap\\distances.py:1086: NumbaDeprecationWarning: \u001b[1mThe 'nopython' keyword argument was not supplied to the 'numba.jit' decorator. The implicit default value for this argument is currently False, but it will be changed to True in Numba 0.59.0. See https://numba.readthedocs.io/en/stable/reference/deprecation.html#deprecation-of-object-mode-fall-back-behaviour-when-using-jit for details.\u001b[0m\n",
      "  @numba.jit()\n",
      "c:\\Users\\izzfa\\anaconda3\\envs\\DC3\\lib\\site-packages\\tqdm\\auto.py:21: TqdmWarning: IProgress not found. Please update jupyter and ipywidgets. See https://ipywidgets.readthedocs.io/en/stable/user_install.html\n",
      "  from .autonotebook import tqdm as notebook_tqdm\n",
      "c:\\Users\\izzfa\\anaconda3\\envs\\DC3\\lib\\site-packages\\umap\\umap_.py:660: NumbaDeprecationWarning: \u001b[1mThe 'nopython' keyword argument was not supplied to the 'numba.jit' decorator. The implicit default value for this argument is currently False, but it will be changed to True in Numba 0.59.0. See https://numba.readthedocs.io/en/stable/reference/deprecation.html#deprecation-of-object-mode-fall-back-behaviour-when-using-jit for details.\u001b[0m\n",
      "  @numba.jit()\n"
     ]
    }
   ],
   "source": [
    "# IMPORTS\n",
    "from bertopic import BERTopic\n",
    "import pandas as pd\n",
    "import os"
   ]
  },
  {
   "cell_type": "code",
   "execution_count": 9,
   "metadata": {},
   "outputs": [
    {
     "name": "stdout",
     "output_type": "stream",
     "text": [
      "Collecting scikit-learn==1.3.0\n",
      "  Obtaining dependency information for scikit-learn==1.3.0 from https://files.pythonhosted.org/packages/2d/30/3afb8bcb785653254eb646ff2680ec4d637b40b06f4b046aca17b5e086b0/scikit_learn-1.3.0-cp39-cp39-win_amd64.whl.metadata\n",
      "  Using cached scikit_learn-1.3.0-cp39-cp39-win_amd64.whl.metadata (11 kB)\n",
      "Requirement already satisfied: numpy>=1.17.3 in c:\\users\\izzfa\\anaconda3\\envs\\dc3\\lib\\site-packages (from scikit-learn==1.3.0) (1.24.3)\n",
      "Requirement already satisfied: scipy>=1.5.0 in c:\\users\\izzfa\\anaconda3\\envs\\dc3\\lib\\site-packages (from scikit-learn==1.3.0) (1.11.1)\n",
      "Requirement already satisfied: joblib>=1.1.1 in c:\\users\\izzfa\\anaconda3\\envs\\dc3\\lib\\site-packages (from scikit-learn==1.3.0) (1.3.2)\n",
      "Requirement already satisfied: threadpoolctl>=2.0.0 in c:\\users\\izzfa\\anaconda3\\envs\\dc3\\lib\\site-packages (from scikit-learn==1.3.0) (3.2.0)\n",
      "Using cached scikit_learn-1.3.0-cp39-cp39-win_amd64.whl (9.3 MB)\n",
      "Installing collected packages: scikit-learn\n",
      "  Attempting uninstall: scikit-learn\n",
      "    Found existing installation: scikit-learn 1.2.2\n",
      "    Uninstalling scikit-learn-1.2.2:\n",
      "      Successfully uninstalled scikit-learn-1.2.2\n",
      "Successfully installed scikit-learn-1.3.0\n",
      "Note: you may need to restart the kernel to use updated packages.\n"
     ]
    }
   ],
   "source": [
    "pip install scikit-learn==1.3.0"
   ]
  },
  {
   "cell_type": "code",
   "execution_count": 2,
   "metadata": {},
   "outputs": [
    {
     "name": "stdout",
     "output_type": "stream",
     "text": [
      "(40452, 3)\n"
     ]
    },
    {
     "data": {
      "text/html": [
       "<div>\n",
       "<style scoped>\n",
       "    .dataframe tbody tr th:only-of-type {\n",
       "        vertical-align: middle;\n",
       "    }\n",
       "\n",
       "    .dataframe tbody tr th {\n",
       "        vertical-align: top;\n",
       "    }\n",
       "\n",
       "    .dataframe thead th {\n",
       "        text-align: right;\n",
       "    }\n",
       "</style>\n",
       "<table border=\"1\" class=\"dataframe\">\n",
       "  <thead>\n",
       "    <tr style=\"text-align: right;\">\n",
       "      <th></th>\n",
       "      <th>auhtor_ID</th>\n",
       "      <th>post</th>\n",
       "      <th>extrovert</th>\n",
       "    </tr>\n",
       "  </thead>\n",
       "  <tbody>\n",
       "    <tr>\n",
       "      <th>0</th>\n",
       "      <td>t2_2hrxxs28</td>\n",
       "      <td>I have a question, if you have no doctor, how'...</td>\n",
       "      <td>0</td>\n",
       "    </tr>\n",
       "    <tr>\n",
       "      <th>1</th>\n",
       "      <td>t2_2hrxxs28</td>\n",
       "      <td>butt to have Covid + your cycle. I'm not sure ...</td>\n",
       "      <td>0</td>\n",
       "    </tr>\n",
       "    <tr>\n",
       "      <th>2</th>\n",
       "      <td>t2_2hrxxs28</td>\n",
       "      <td>through different doctors. My situation sucks ...</td>\n",
       "      <td>0</td>\n",
       "    </tr>\n",
       "    <tr>\n",
       "      <th>3</th>\n",
       "      <td>t2_4pxpgwz</td>\n",
       "      <td>i thought it was about the pebbleyeet guy the ...</td>\n",
       "      <td>0</td>\n",
       "    </tr>\n",
       "    <tr>\n",
       "      <th>4</th>\n",
       "      <td>t2_4pxpgwz</td>\n",
       "      <td>…i always end up voting wrong even as crewmate...</td>\n",
       "      <td>0</td>\n",
       "    </tr>\n",
       "  </tbody>\n",
       "</table>\n",
       "</div>"
      ],
      "text/plain": [
       "     auhtor_ID                                               post  extrovert\n",
       "0  t2_2hrxxs28  I have a question, if you have no doctor, how'...          0\n",
       "1  t2_2hrxxs28  butt to have Covid + your cycle. I'm not sure ...          0\n",
       "2  t2_2hrxxs28  through different doctors. My situation sucks ...          0\n",
       "3   t2_4pxpgwz  i thought it was about the pebbleyeet guy the ...          0\n",
       "4   t2_4pxpgwz  …i always end up voting wrong even as crewmate...          0"
      ]
     },
     "execution_count": 2,
     "metadata": {},
     "output_type": "execute_result"
    }
   ],
   "source": [
    "# Read the data and perform preprocessing\n",
    "\n",
    "df = pd.read_csv(\"data\\extrovert_introvert.csv\") # Read data into 'df' dataframe\n",
    "print(df.shape) # Print dataframe shape\n",
    "\n",
    "docs = df[\"post\"].tolist() # Create a list containing all article summaries\n",
    "\n",
    "df.head()"
   ]
  },
  {
   "cell_type": "code",
   "execution_count": 17,
   "metadata": {},
   "outputs": [],
   "source": [
    "df_feeling_thinking = pd.read_csv(r'data/feeling_thinking.csv')\n",
    "df_judging_perceiving = pd.read_csv(r'data/judging_perceiving.csv')\n",
    "df_sensing_intuitive = pd.read_csv(r'data/sensing_intuitive.csv')\n",
    "\n",
    "docsft = df_feeling_thinking['post'].tolist()\n",
    "docsjp = df_judging_perceiving['post'].tolist()\n",
    "docssi = df_sensing_intuitive['post'].tolist()"
   ]
  },
  {
   "cell_type": "code",
   "execution_count": 3,
   "metadata": {},
   "outputs": [],
   "source": [
    "if os.path.exists('MBTI_EI'):\n",
    "    bertopic = BERTopic.load('MBTI_EI')\n",
    "else:\n",
    "    # Use the representation model in BERTopic on top of the default pipeline\n",
    "    bertopic = BERTopic(language=\"english\", calculate_probabilities=True, verbose=True) # Initialize the BERTopic model\n",
    "\n",
    "    bertopic.fit_transform(docs) # Fit the model to the list of article summaries\n",
    "    bertopic.save(\"MBTI_EI\") # Save the trained model as \"MBTI\""
   ]
  },
  {
   "cell_type": "code",
   "execution_count": null,
   "metadata": {},
   "outputs": [],
   "source": [
    "if os.path.exists('MBTI_FT'):\n",
    "    bertopic = BERTopic.load('MBTI_FT')\n",
    "else:\n",
    "    # Use the representation model in BERTopic on top of the default pipeline\n",
    "    bertopic = BERTopic(language=\"english\", calculate_probabilities=True, verbose=True) # Initialize the BERTopic model\n",
    "\n",
    "    bertopic.fit_transform(docsft) # Fit the model to the list of article summaries\n",
    "    bertopic.save(\"MBTI_FT\") # Save the trained model as \"MBTI\""
   ]
  },
  {
   "cell_type": "code",
   "execution_count": null,
   "metadata": {},
   "outputs": [],
   "source": [
    "if os.path.exists('MBTI_JP'):\n",
    "    bertopic = BERTopic.load('MBTI_JP')\n",
    "else:\n",
    "    # Use the representation model in BERTopic on top of the default pipeline\n",
    "    bertopic = BERTopic(language=\"english\", calculate_probabilities=True, verbose=True) # Initialize the BERTopic model\n",
    "\n",
    "    bertopic.fit_transform(docsjp) # Fit the model to the list of article summaries\n",
    "    bertopic.save(\"MBTI_JP\") # Save the trained model as \"MBTI\""
   ]
  },
  {
   "cell_type": "code",
   "execution_count": null,
   "metadata": {},
   "outputs": [],
   "source": [
    "if os.path.exists('MBTI_SI'):\n",
    "    bertopic = BERTopic.load('MBTI_SI')\n",
    "else:\n",
    "    # Use the representation model in BERTopic on top of the default pipeline\n",
    "    bertopic = BERTopic(language=\"english\", calculate_probabilities=True, verbose=True) # Initialize the BERTopic model\n",
    "\n",
    "    bertopic.fit_transform(docssi) # Fit the model to the list of article summaries\n",
    "    bertopic.save(\"MBTI_SI\") # Save the trained model as \"MBTI\""
   ]
  },
  {
   "cell_type": "code",
   "execution_count": 15,
   "metadata": {},
   "outputs": [
    {
     "data": {
      "text/html": [
       "<div>\n",
       "<style scoped>\n",
       "    .dataframe tbody tr th:only-of-type {\n",
       "        vertical-align: middle;\n",
       "    }\n",
       "\n",
       "    .dataframe tbody tr th {\n",
       "        vertical-align: top;\n",
       "    }\n",
       "\n",
       "    .dataframe thead th {\n",
       "        text-align: right;\n",
       "    }\n",
       "</style>\n",
       "<table border=\"1\" class=\"dataframe\">\n",
       "  <thead>\n",
       "    <tr style=\"text-align: right;\">\n",
       "      <th></th>\n",
       "      <th>Topic</th>\n",
       "      <th>Count</th>\n",
       "      <th>Name</th>\n",
       "      <th>Representation</th>\n",
       "      <th>Representative_Docs</th>\n",
       "    </tr>\n",
       "  </thead>\n",
       "  <tbody>\n",
       "    <tr>\n",
       "      <th>2</th>\n",
       "      <td>1</td>\n",
       "      <td>529</td>\n",
       "      <td>1_russia_ukraine_russian_war</td>\n",
       "      <td>[russia, ukraine, russian, war, the, of, in, n...</td>\n",
       "      <td>[on the Baltics. &amp;gt;And NATO is not capable o...</td>\n",
       "    </tr>\n",
       "    <tr>\n",
       "      <th>3</th>\n",
       "      <td>2</td>\n",
       "      <td>456</td>\n",
       "      <td>2_trans_gender_people_dysphoria</td>\n",
       "      <td>[trans, gender, people, dysphoria, im, and, bu...</td>\n",
       "      <td>[a little more sense but I still suffered I tr...</td>\n",
       "    </tr>\n",
       "    <tr>\n",
       "      <th>4</th>\n",
       "      <td>3</td>\n",
       "      <td>435</td>\n",
       "      <td>3_it_my_and_you</td>\n",
       "      <td>[it, my, and, you, to, for, but, im, of, the]</td>\n",
       "      <td>[edibles once and I felt like the whole time I...</td>\n",
       "    </tr>\n",
       "    <tr>\n",
       "      <th>5</th>\n",
       "      <td>4</td>\n",
       "      <td>366</td>\n",
       "      <td>4_vaccine_covid_vaccinated_the</td>\n",
       "      <td>[vaccine, covid, vaccinated, the, vaccines, pe...</td>\n",
       "      <td>[house doesnt fall on your head. You could dri...</td>\n",
       "    </tr>\n",
       "    <tr>\n",
       "      <th>6</th>\n",
       "      <td>5</td>\n",
       "      <td>340</td>\n",
       "      <td>5_he_him_you_me</td>\n",
       "      <td>[he, him, you, me, relationship, to, and, my, ...</td>\n",
       "      <td>[do is have him inherit your trauma, I have st...</td>\n",
       "    </tr>\n",
       "    <tr>\n",
       "      <th>7</th>\n",
       "      <td>6</td>\n",
       "      <td>328</td>\n",
       "      <td>6_abortion_women_the_that</td>\n",
       "      <td>[abortion, women, the, that, to, of, is, not, ...</td>\n",
       "      <td>[if they choose to not want the kid. That shou...</td>\n",
       "    </tr>\n",
       "    <tr>\n",
       "      <th>8</th>\n",
       "      <td>7</td>\n",
       "      <td>300</td>\n",
       "      <td>7_sex_he_you_to</td>\n",
       "      <td>[sex, he, you, to, and, your, him, my, that, it]</td>\n",
       "      <td>[her spot, i don't think you have to search ve...</td>\n",
       "    </tr>\n",
       "    <tr>\n",
       "      <th>9</th>\n",
       "      <td>8</td>\n",
       "      <td>269</td>\n",
       "      <td>8_market_gme_moass_dividend</td>\n",
       "      <td>[market, gme, moass, dividend, the, is, stock,...</td>\n",
       "      <td>[there is a hidden meaning in his tweets. One ...</td>\n",
       "    </tr>\n",
       "  </tbody>\n",
       "</table>\n",
       "</div>"
      ],
      "text/plain": [
       "   Topic  Count                             Name  \\\n",
       "2      1    529     1_russia_ukraine_russian_war   \n",
       "3      2    456  2_trans_gender_people_dysphoria   \n",
       "4      3    435                  3_it_my_and_you   \n",
       "5      4    366   4_vaccine_covid_vaccinated_the   \n",
       "6      5    340                  5_he_him_you_me   \n",
       "7      6    328        6_abortion_women_the_that   \n",
       "8      7    300                  7_sex_he_you_to   \n",
       "9      8    269      8_market_gme_moass_dividend   \n",
       "\n",
       "                                      Representation  \\\n",
       "2  [russia, ukraine, russian, war, the, of, in, n...   \n",
       "3  [trans, gender, people, dysphoria, im, and, bu...   \n",
       "4      [it, my, and, you, to, for, but, im, of, the]   \n",
       "5  [vaccine, covid, vaccinated, the, vaccines, pe...   \n",
       "6  [he, him, you, me, relationship, to, and, my, ...   \n",
       "7  [abortion, women, the, that, to, of, is, not, ...   \n",
       "8   [sex, he, you, to, and, your, him, my, that, it]   \n",
       "9  [market, gme, moass, dividend, the, is, stock,...   \n",
       "\n",
       "                                 Representative_Docs  \n",
       "2  [on the Baltics. &gt;And NATO is not capable o...  \n",
       "3  [a little more sense but I still suffered I tr...  \n",
       "4  [edibles once and I felt like the whole time I...  \n",
       "5  [house doesnt fall on your head. You could dri...  \n",
       "6  [do is have him inherit your trauma, I have st...  \n",
       "7  [if they choose to not want the kid. That shou...  \n",
       "8  [her spot, i don't think you have to search ve...  \n",
       "9  [there is a hidden meaning in his tweets. One ...  "
      ]
     },
     "execution_count": 15,
     "metadata": {},
     "output_type": "execute_result"
    }
   ],
   "source": [
    "topics = bertopic.get_topic_info()\n",
    "topics.iloc[2:10]"
   ]
  },
  {
   "cell_type": "code",
   "execution_count": 6,
   "metadata": {},
   "outputs": [
    {
     "data": {
      "text/plain": [
       "['-1_to_and_the_you',\n",
       " '0_her_she_he_your',\n",
       " '1_russia_ukraine_russian_war',\n",
       " '2_trans_gender_people_dysphoria',\n",
       " '3_it_my_and_you',\n",
       " '4_vaccine_covid_vaccinated_the',\n",
       " '5_he_him_you_me',\n",
       " '6_abortion_women_the_that',\n",
       " '7_sex_he_you_to',\n",
       " '8_market_gme_moass_dividend',\n",
       " '9_white_people_black_that',\n",
       " '10_scammer_click_bots_links',\n",
       " '11_friends_me_to_you',\n",
       " '12_god_of_that_is',\n",
       " '13_her_she_relationship_you',\n",
       " '14_her_she_he_was',\n",
       " '15_de_la_el_que',\n",
       " '16_song_album_songs_like',\n",
       " '17_god_christ_esv_jesus',\n",
       " '18_narcissist_narcissistic_supply_narc',\n",
       " '19_you_to_that_and',\n",
       " '20_game_team_defense_we',\n",
       " '21_scorpio_saturn_moon_house',\n",
       " '22_xt_amd_nvidia_performance',\n",
       " '23_que_de_eu_um',\n",
       " '24_xiao_team_her_banner',\n",
       " '25_dog_dogs_puppy_her',\n",
       " '26_language_deaf_english_languages',\n",
       " '27_sa_na_ng_ko',\n",
       " '28_karmafarming_spammer_repost_bot',\n",
       " '29_les_le_et_de',\n",
       " '30_cloud_cybersecurity_jobs_roadmap',\n",
       " '31_rice_and_the_in',\n",
       " '32_game_halo_games_play',\n",
       " '33_het_dat_een_niet',\n",
       " '34_ich_und_das_ist',\n",
       " '35_socialism_capitalism_socialist_of',\n",
       " '36_women_men_that_the',\n",
       " '37_to_for_the_my',\n",
       " '38_je_da_pa_za',\n",
       " '39_you_that_women_to',\n",
       " '40_the_of_in_nuclear',\n",
       " '41_android_tablet_phone_battery',\n",
       " '42_er_det_ikke_og',\n",
       " '43_rent_renters_lease_they',\n",
       " '44_speed_traffic_lane_the',\n",
       " '45_anpan_tama_san_cute',\n",
       " '46_signed_autograph_albums_taylors',\n",
       " '47_autism_autistic_not_it',\n",
       " '48_scammer_unsolicited_messaging_click',\n",
       " '49_scammer_click_pins_informationlt',\n",
       " '50_fe_type_an_functions',\n",
       " '51_yang_ubi_party_bernie',\n",
       " '52_att_det_inte_och',\n",
       " '53_bbc_netflix_rlistentothis_tv',\n",
       " '54_skin_na_im_my',\n",
       " '55_gun_guns_the_of',\n",
       " '56_gay_lgbt_people_of',\n",
       " '57_anpan_muda_dazai_naruto',\n",
       " '58_bike_bikes_mountain_ride',\n",
       " '59_her_she_crush_me',\n",
       " '60_party_democrats_vote_dems',\n",
       " '61_rlistentothis_may_artist_professional',\n",
       " '62_genre_rlistentothis_may_tags',\n",
       " '63_adhd_snip_and_it',\n",
       " '64_her_she_was_he',\n",
       " '65_metal_music_genre_goth',\n",
       " '66_mbti_type_functions_of',\n",
       " '67_removed_submission_rallyx26_message',\n",
       " '68_irish_americans_american_irishamerican',\n",
       " '69_movie_was_the_it',\n",
       " '70_and_you_to_can',\n",
       " '71_vegan_meat_eat_vegans',\n",
       " '72_az_hogy_nem_egy',\n",
       " '73_game_games_play_the',\n",
       " '74_players_he_top_acola',\n",
       " '75_ni_ne_se_ti',\n",
       " '76_cat_her_my_she',\n",
       " '77_they_the_them_of',\n",
       " '78_functions_test_type_intp',\n",
       " '79_the_uk_of_brexit',\n",
       " '80_face_hair_nose_look',\n",
       " '81_cops_police_he_gun',\n",
       " '82_ohma_he_raian_kengan',\n",
       " '83_work_ubi_jobs_we',\n",
       " '84_bir_bu_ve_gibi',\n",
       " '85_therapist_you_therapy_trauma',\n",
       " '86_deck_cards_decks_card',\n",
       " '87_vr_game_games_xbox',\n",
       " '88_of_the_that_they',\n",
       " '89_gun_the_it_range',\n",
       " '90_ai_art_of_the',\n",
       " '91_calories_protein_weight_eat',\n",
       " '92_iq_that_intelligence_of',\n",
       " '93_fabric_my_dress_it',\n",
       " '94_lgbt_gay_russia_rlistentothis',\n",
       " '95_china_chinese_us_the',\n",
       " '96_killer_perks_killers_survivor',\n",
       " '97_my_was_im_me',\n",
       " '98_school_homeschooling_kids_homeschool',\n",
       " '99_uber_customer_tip_driver',\n",
       " '100_the_in_of_for',\n",
       " '101_bass_the_it_its',\n",
       " '102_bpd_pwbpd_disorder_abuse',\n",
       " '103_astrology_sun_of_that',\n",
       " '104_nie_si_jest_na',\n",
       " '105_study_you_it_to',\n",
       " '106_women_men_attractive_woman',\n",
       " '107_offer_thank_referenceurl_drawing',\n",
       " '108_to_in_and_the',\n",
       " '109_car_tires_tire_the',\n",
       " '110_alpine_f1_driver_race',\n",
       " '111_my_you_me_feel',\n",
       " '112_artist_rlistentothis_may_rule',\n",
       " '113_sauron_his_he_tristan',\n",
       " '114_she_her_me_you',\n",
       " '115_jefferson_slavery_slaves_slave',\n",
       " '116_me_you_infp_my',\n",
       " '117_marvel_dc_batman_comics',\n",
       " '118_iam_yeah_uauddbot_bro',\n",
       " '119_god_think_faith_we',\n",
       " '120_average_height_women_men',\n",
       " '121_your_home_estate_agents',\n",
       " '122_taiwan_china_taiwanese_russia',\n",
       " '123_rallyx26_submission_removed_removal',\n",
       " '124_infj_infjs_entj_are',\n",
       " '125_manhwa_anime_novel_fl',\n",
       " '126_dream_dreams_my_was',\n",
       " '127_credit_card_tht_cards',\n",
       " '128_hair_di_bra_size',\n",
       " '129_hair_att_your_my',\n",
       " '130_jedi_luke_vader_wars',\n",
       " '131_mormon_church_lds_joseph',\n",
       " '132_4s_type_enneagram_sx',\n",
       " '133_israel_gg_palestinians_palestine',\n",
       " '134_light_convoy_emitter_519a',\n",
       " '135_recording_plugins_sound_fl',\n",
       " '136_people_to_feel_my',\n",
       " '137_journal_write_my_journaling',\n",
       " '138_tires_tire_truck_the',\n",
       " '139_slavery_people_slave_of',\n",
       " '140_cheating_cheater_cheaters_cheat',\n",
       " '141_my_me_bipolar_was',\n",
       " '142_hai_bhi_bhai_ke',\n",
       " '143_post_bans_laundrie_thread',\n",
       " '144_ubi_work_jobs_yang',\n",
       " '145_que_de_pra_com',\n",
       " '146_food_to_and_you',\n",
       " '147_sperm_ovulation_fertility_semen',\n",
       " '148_entp_entj_an_intj',\n",
       " '149_my_it_you_the',\n",
       " '150_channel_removed_questions_subreddit',\n",
       " '151_india_indian_movie_indians',\n",
       " '152_gifts_gift_her_you',\n",
       " '153_bica_progesterone_estrogen_hrt',\n",
       " '154_my_type_im_to',\n",
       " '155_rallyx26_submission_removed_message',\n",
       " '156_people_others_and_you',\n",
       " '157_ubi_libertarian_left_social',\n",
       " '158_ships_the_but_if',\n",
       " '159_az_hungarian_nem_hogy',\n",
       " '160_iran_iranians_iranian_islam',\n",
       " '161_removed_submission_rallyx26_removal',\n",
       " '162_musk_twitter_he_people',\n",
       " '163_land_lvt_ubi_tax',\n",
       " '164_swedish_sweden_carolus_que',\n",
       " '165_damage_attack_cleric_spells',\n",
       " '166_joke_just_it_im',\n",
       " '167_me_you_feel_to',\n",
       " '168_but_and_my_im',\n",
       " '169_our_selfesteem_emotional_others',\n",
       " '170_my_me_beatles_to',\n",
       " '171_islam_hijab_allah_muslim',\n",
       " '172_fat_bmi_body_weight',\n",
       " '173_thank_baby_omg_perfect',\n",
       " '174_ocs_army_officer_yea',\n",
       " '175_fi_ti_te_fe',\n",
       " '176_the_and_wine_it',\n",
       " '177_mbti_fuck_hain_of',\n",
       " '178_you_your_me_da',\n",
       " '179_plant_plants_it_water',\n",
       " '180_art_drawing_draw_xd',\n",
       " '181_nihilism_meaning_nihilist_nihilists',\n",
       " '182_estp_mbti_tritype_anime',\n",
       " '183_you_the_an_on',\n",
       " '184_expectancy_taxes_of_years',\n",
       " '185_of_the_in_more',\n",
       " '186_shipping_store_signed_items',\n",
       " '187_war_union_confederacy_south',\n",
       " '188_tip_service_tips_drivers',\n",
       " '189_att_to_you_for',\n",
       " '190_kisuke_people_me_because',\n",
       " '191_eren_mikasa_ymir_titan',\n",
       " '192_the_zombies_was_dogs',\n",
       " '193_women_relationship_you_my',\n",
       " '194_war_japan_us_wwii',\n",
       " '195_lol_school_usc_lmao',\n",
       " '196_team_teams_mariners_players',\n",
       " '197_submission_rallyx26_removed_message',\n",
       " '198_rallyx26_removed_submission_removal',\n",
       " '199_catholic_school_in_was',\n",
       " '200_nta_weight_she_hoof',\n",
       " '201_immortality_of_that_the',\n",
       " '202_moral_morality_judgments_societies',\n",
       " '203_jersey_was_dc_there',\n",
       " '204_wine_wines_bdx_bordeaux',\n",
       " '205_aarosh_soul_spiritual_chakra',\n",
       " '206_az_hogy_birthday_them',\n",
       " '207_federer_rafa_roger_tennis',\n",
       " '208_masters_you_but_are',\n",
       " '209_iraqi_and_he_the',\n",
       " '210_you_her_your_she',\n",
       " '211_can_it_to_maths',\n",
       " '212_oer_im_wi_ur',\n",
       " '213_knife_knives_blade_throw',\n",
       " '214_ca_nu_mai_de',\n",
       " '215_name_names_or_lol',\n",
       " '216_mass_novus_ordo_catholics',\n",
       " '217_cult_definition_cults_christianity',\n",
       " '218_shoes_pair_feet_federer',\n",
       " '219_teeth_thank_disc_braces',\n",
       " '220_im_and_to_me',\n",
       " '221_like_her_me_good',\n",
       " '222_job_you_if_to',\n",
       " '223_nazis_nhs_hitler_of',\n",
       " '224_her_shes_she_he',\n",
       " '225_you_hope_feel_help',\n",
       " '226_lie_matzek_lying_arcane',\n",
       " '227_perth_australia_city_in',\n",
       " '228_alberta_canada_province_kenney',\n",
       " '229_whatcha_mm_attractive_me',\n",
       " '230_oak_color_wall_fabric',\n",
       " '231_tgc_candles_sky_cosmetics',\n",
       " '232_the_of_year_addicts',\n",
       " '233_tht_visa_colombia_thr',\n",
       " '234_im_me_this_just',\n",
       " '235_app_use_phone_google',\n",
       " '236_clients_you_month_get',\n",
       " '237_ja_ett_ei_mutta',\n",
       " '238_migraine_migraines_so_my',\n",
       " '239_afghanistan_taliban_we_biden',\n",
       " '240_tarot_cards_deck_card',\n",
       " '241_anxious_flight_anxiety_im',\n",
       " '242_artist_rlistentothis_may_seturl',\n",
       " '243_masks_mask_covid_villager',\n",
       " '244_game_zoey_event_eidolon',\n",
       " '245_coaster_nice_ride_awesome',\n",
       " '246_lt3_she_me_you',\n",
       " '247_ubi_yang_party_bernie',\n",
       " '248_clickfarming_spam_farming_spammer',\n",
       " '249_crossbow_my_me_uncle',\n",
       " '250_pads_tattoos_tattoo_skater',\n",
       " '251_women_sports_men_womens',\n",
       " '252_pokemon_gun_game_showdown',\n",
       " '253_gak_gw_yang_kalau',\n",
       " '254_hospitalizations_are_you_students',\n",
       " '255_sa_na_ng_ang',\n",
       " '256_anger_we_angry_life',\n",
       " '257_you_that_are_to',\n",
       " '258_portfolio_mandies2879_contact_prices',\n",
       " '259_astrology_jung_mbti_functions',\n",
       " '260_intj_intjs_intp_type',\n",
       " '261_mameini_underground_url_this',\n",
       " '262_und_nicht_das_die',\n",
       " '263_ainz_nazarick_assassins_would',\n",
       " '264_bjj_tdd_at_striking',\n",
       " '265_lol_im_work_for',\n",
       " '266_animals_humans_gt_species',\n",
       " '267_ur_ye_recipromantic_im']"
      ]
     },
     "execution_count": 6,
     "metadata": {},
     "output_type": "execute_result"
    }
   ],
   "source": [
    "names = topics['Name'].to_list()\n",
    "names"
   ]
  },
  {
   "cell_type": "code",
   "execution_count": 10,
   "metadata": {},
   "outputs": [
    {
     "data": {
      "application/vnd.plotly.v1+json": {
       "config": {
        "plotlyServerURL": "https://plot.ly"
       },
       "data": [
        {
         "marker": {
          "color": "#D55E00"
         },
         "orientation": "h",
         "type": "bar",
         "x": [
          0.00464596726538408,
          0.004779642054023029,
          0.004842891102646727,
          0.005243195900623448,
          0.005680027758861481
         ],
         "xaxis": "x",
         "y": [
          "you  ",
          "your  ",
          "he  ",
          "she  ",
          "her  "
         ],
         "yaxis": "y"
        },
        {
         "marker": {
          "color": "#0072B2"
         },
         "orientation": "h",
         "type": "bar",
         "x": [
          0.004076375969640819,
          0.004687425145292564,
          0.005747098679232553,
          0.007298864585238008,
          0.008956378852959914
         ],
         "xaxis": "x2",
         "y": [
          "the  ",
          "war  ",
          "russian  ",
          "ukraine  ",
          "russia  "
         ],
         "yaxis": "y2"
        },
        {
         "marker": {
          "color": "#CC79A7"
         },
         "orientation": "h",
         "type": "bar",
         "x": [
          0.0037219034668211155,
          0.0038842559609123563,
          0.004208062778970551,
          0.006698739384191056,
          0.01147213207598214
         ],
         "xaxis": "x3",
         "y": [
          "im  ",
          "dysphoria  ",
          "people  ",
          "gender  ",
          "trans  "
         ],
         "yaxis": "y3"
        },
        {
         "marker": {
          "color": "#E69F00"
         },
         "orientation": "h",
         "type": "bar",
         "x": [
          0.0034636826710101242,
          0.003480179493713341,
          0.003552058413317838,
          0.0035900103199205135,
          0.004046599539065337
         ],
         "xaxis": "x4",
         "y": [
          "to  ",
          "you  ",
          "and  ",
          "my  ",
          "it  "
         ],
         "yaxis": "y4"
        },
        {
         "marker": {
          "color": "#56B4E9"
         },
         "orientation": "h",
         "type": "bar",
         "x": [
          0.003882855561940343,
          0.003949754803960273,
          0.004095576649277289,
          0.00567945560711367,
          0.0074496773165959665
         ],
         "xaxis": "x5",
         "y": [
          "vaccines  ",
          "the  ",
          "vaccinated  ",
          "covid  ",
          "vaccine  "
         ],
         "yaxis": "y5"
        },
        {
         "marker": {
          "color": "#009E73"
         },
         "orientation": "h",
         "type": "bar",
         "x": [
          0.004206215879560013,
          0.004383690130733541,
          0.0045382579120626385,
          0.0063662902500136115,
          0.006567328074632907
         ],
         "xaxis": "x6",
         "y": [
          "relationship  ",
          "me  ",
          "you  ",
          "him  ",
          "he  "
         ],
         "yaxis": "y6"
        },
        {
         "marker": {
          "color": "#F0E442"
         },
         "orientation": "h",
         "type": "bar",
         "x": [
          0.003825313145004004,
          0.0038621007650501893,
          0.003931989938953246,
          0.004147713922769397,
          0.007299412652295761
         ],
         "xaxis": "x7",
         "y": [
          "to  ",
          "that  ",
          "the  ",
          "women  ",
          "abortion  "
         ],
         "yaxis": "y7"
        },
        {
         "marker": {
          "color": "#D55E00"
         },
         "orientation": "h",
         "type": "bar",
         "x": [
          0.0038196624120198706,
          0.0038482151806829086,
          0.0039396863703952505,
          0.00402671956554726,
          0.004828285496218491
         ],
         "xaxis": "x8",
         "y": [
          "and  ",
          "to  ",
          "you  ",
          "he  ",
          "sex  "
         ],
         "yaxis": "y8"
        }
       ],
       "layout": {
        "annotations": [
         {
          "font": {
           "size": 16
          },
          "showarrow": false,
          "text": "Topic 0",
          "x": 0.0875,
          "xanchor": "center",
          "xref": "paper",
          "y": 1,
          "yanchor": "bottom",
          "yref": "paper"
         },
         {
          "font": {
           "size": 16
          },
          "showarrow": false,
          "text": "Topic 1",
          "x": 0.36250000000000004,
          "xanchor": "center",
          "xref": "paper",
          "y": 1,
          "yanchor": "bottom",
          "yref": "paper"
         },
         {
          "font": {
           "size": 16
          },
          "showarrow": false,
          "text": "Topic 2",
          "x": 0.6375000000000001,
          "xanchor": "center",
          "xref": "paper",
          "y": 1,
          "yanchor": "bottom",
          "yref": "paper"
         },
         {
          "font": {
           "size": 16
          },
          "showarrow": false,
          "text": "Topic 3",
          "x": 0.9125,
          "xanchor": "center",
          "xref": "paper",
          "y": 1,
          "yanchor": "bottom",
          "yref": "paper"
         },
         {
          "font": {
           "size": 16
          },
          "showarrow": false,
          "text": "Topic 4",
          "x": 0.0875,
          "xanchor": "center",
          "xref": "paper",
          "y": 0.4,
          "yanchor": "bottom",
          "yref": "paper"
         },
         {
          "font": {
           "size": 16
          },
          "showarrow": false,
          "text": "Topic 5",
          "x": 0.36250000000000004,
          "xanchor": "center",
          "xref": "paper",
          "y": 0.4,
          "yanchor": "bottom",
          "yref": "paper"
         },
         {
          "font": {
           "size": 16
          },
          "showarrow": false,
          "text": "Topic 6",
          "x": 0.6375000000000001,
          "xanchor": "center",
          "xref": "paper",
          "y": 0.4,
          "yanchor": "bottom",
          "yref": "paper"
         },
         {
          "font": {
           "size": 16
          },
          "showarrow": false,
          "text": "Topic 7",
          "x": 0.9125,
          "xanchor": "center",
          "xref": "paper",
          "y": 0.4,
          "yanchor": "bottom",
          "yref": "paper"
         }
        ],
        "height": 500,
        "hoverlabel": {
         "bgcolor": "white",
         "font": {
          "family": "Rockwell",
          "size": 16
         }
        },
        "showlegend": false,
        "template": {
         "data": {
          "bar": [
           {
            "error_x": {
             "color": "#2a3f5f"
            },
            "error_y": {
             "color": "#2a3f5f"
            },
            "marker": {
             "line": {
              "color": "white",
              "width": 0.5
             },
             "pattern": {
              "fillmode": "overlay",
              "size": 10,
              "solidity": 0.2
             }
            },
            "type": "bar"
           }
          ],
          "barpolar": [
           {
            "marker": {
             "line": {
              "color": "white",
              "width": 0.5
             },
             "pattern": {
              "fillmode": "overlay",
              "size": 10,
              "solidity": 0.2
             }
            },
            "type": "barpolar"
           }
          ],
          "carpet": [
           {
            "aaxis": {
             "endlinecolor": "#2a3f5f",
             "gridcolor": "#C8D4E3",
             "linecolor": "#C8D4E3",
             "minorgridcolor": "#C8D4E3",
             "startlinecolor": "#2a3f5f"
            },
            "baxis": {
             "endlinecolor": "#2a3f5f",
             "gridcolor": "#C8D4E3",
             "linecolor": "#C8D4E3",
             "minorgridcolor": "#C8D4E3",
             "startlinecolor": "#2a3f5f"
            },
            "type": "carpet"
           }
          ],
          "choropleth": [
           {
            "colorbar": {
             "outlinewidth": 0,
             "ticks": ""
            },
            "type": "choropleth"
           }
          ],
          "contour": [
           {
            "colorbar": {
             "outlinewidth": 0,
             "ticks": ""
            },
            "colorscale": [
             [
              0,
              "#0d0887"
             ],
             [
              0.1111111111111111,
              "#46039f"
             ],
             [
              0.2222222222222222,
              "#7201a8"
             ],
             [
              0.3333333333333333,
              "#9c179e"
             ],
             [
              0.4444444444444444,
              "#bd3786"
             ],
             [
              0.5555555555555556,
              "#d8576b"
             ],
             [
              0.6666666666666666,
              "#ed7953"
             ],
             [
              0.7777777777777778,
              "#fb9f3a"
             ],
             [
              0.8888888888888888,
              "#fdca26"
             ],
             [
              1,
              "#f0f921"
             ]
            ],
            "type": "contour"
           }
          ],
          "contourcarpet": [
           {
            "colorbar": {
             "outlinewidth": 0,
             "ticks": ""
            },
            "type": "contourcarpet"
           }
          ],
          "heatmap": [
           {
            "colorbar": {
             "outlinewidth": 0,
             "ticks": ""
            },
            "colorscale": [
             [
              0,
              "#0d0887"
             ],
             [
              0.1111111111111111,
              "#46039f"
             ],
             [
              0.2222222222222222,
              "#7201a8"
             ],
             [
              0.3333333333333333,
              "#9c179e"
             ],
             [
              0.4444444444444444,
              "#bd3786"
             ],
             [
              0.5555555555555556,
              "#d8576b"
             ],
             [
              0.6666666666666666,
              "#ed7953"
             ],
             [
              0.7777777777777778,
              "#fb9f3a"
             ],
             [
              0.8888888888888888,
              "#fdca26"
             ],
             [
              1,
              "#f0f921"
             ]
            ],
            "type": "heatmap"
           }
          ],
          "heatmapgl": [
           {
            "colorbar": {
             "outlinewidth": 0,
             "ticks": ""
            },
            "colorscale": [
             [
              0,
              "#0d0887"
             ],
             [
              0.1111111111111111,
              "#46039f"
             ],
             [
              0.2222222222222222,
              "#7201a8"
             ],
             [
              0.3333333333333333,
              "#9c179e"
             ],
             [
              0.4444444444444444,
              "#bd3786"
             ],
             [
              0.5555555555555556,
              "#d8576b"
             ],
             [
              0.6666666666666666,
              "#ed7953"
             ],
             [
              0.7777777777777778,
              "#fb9f3a"
             ],
             [
              0.8888888888888888,
              "#fdca26"
             ],
             [
              1,
              "#f0f921"
             ]
            ],
            "type": "heatmapgl"
           }
          ],
          "histogram": [
           {
            "marker": {
             "pattern": {
              "fillmode": "overlay",
              "size": 10,
              "solidity": 0.2
             }
            },
            "type": "histogram"
           }
          ],
          "histogram2d": [
           {
            "colorbar": {
             "outlinewidth": 0,
             "ticks": ""
            },
            "colorscale": [
             [
              0,
              "#0d0887"
             ],
             [
              0.1111111111111111,
              "#46039f"
             ],
             [
              0.2222222222222222,
              "#7201a8"
             ],
             [
              0.3333333333333333,
              "#9c179e"
             ],
             [
              0.4444444444444444,
              "#bd3786"
             ],
             [
              0.5555555555555556,
              "#d8576b"
             ],
             [
              0.6666666666666666,
              "#ed7953"
             ],
             [
              0.7777777777777778,
              "#fb9f3a"
             ],
             [
              0.8888888888888888,
              "#fdca26"
             ],
             [
              1,
              "#f0f921"
             ]
            ],
            "type": "histogram2d"
           }
          ],
          "histogram2dcontour": [
           {
            "colorbar": {
             "outlinewidth": 0,
             "ticks": ""
            },
            "colorscale": [
             [
              0,
              "#0d0887"
             ],
             [
              0.1111111111111111,
              "#46039f"
             ],
             [
              0.2222222222222222,
              "#7201a8"
             ],
             [
              0.3333333333333333,
              "#9c179e"
             ],
             [
              0.4444444444444444,
              "#bd3786"
             ],
             [
              0.5555555555555556,
              "#d8576b"
             ],
             [
              0.6666666666666666,
              "#ed7953"
             ],
             [
              0.7777777777777778,
              "#fb9f3a"
             ],
             [
              0.8888888888888888,
              "#fdca26"
             ],
             [
              1,
              "#f0f921"
             ]
            ],
            "type": "histogram2dcontour"
           }
          ],
          "mesh3d": [
           {
            "colorbar": {
             "outlinewidth": 0,
             "ticks": ""
            },
            "type": "mesh3d"
           }
          ],
          "parcoords": [
           {
            "line": {
             "colorbar": {
              "outlinewidth": 0,
              "ticks": ""
             }
            },
            "type": "parcoords"
           }
          ],
          "pie": [
           {
            "automargin": true,
            "type": "pie"
           }
          ],
          "scatter": [
           {
            "fillpattern": {
             "fillmode": "overlay",
             "size": 10,
             "solidity": 0.2
            },
            "type": "scatter"
           }
          ],
          "scatter3d": [
           {
            "line": {
             "colorbar": {
              "outlinewidth": 0,
              "ticks": ""
             }
            },
            "marker": {
             "colorbar": {
              "outlinewidth": 0,
              "ticks": ""
             }
            },
            "type": "scatter3d"
           }
          ],
          "scattercarpet": [
           {
            "marker": {
             "colorbar": {
              "outlinewidth": 0,
              "ticks": ""
             }
            },
            "type": "scattercarpet"
           }
          ],
          "scattergeo": [
           {
            "marker": {
             "colorbar": {
              "outlinewidth": 0,
              "ticks": ""
             }
            },
            "type": "scattergeo"
           }
          ],
          "scattergl": [
           {
            "marker": {
             "colorbar": {
              "outlinewidth": 0,
              "ticks": ""
             }
            },
            "type": "scattergl"
           }
          ],
          "scattermapbox": [
           {
            "marker": {
             "colorbar": {
              "outlinewidth": 0,
              "ticks": ""
             }
            },
            "type": "scattermapbox"
           }
          ],
          "scatterpolar": [
           {
            "marker": {
             "colorbar": {
              "outlinewidth": 0,
              "ticks": ""
             }
            },
            "type": "scatterpolar"
           }
          ],
          "scatterpolargl": [
           {
            "marker": {
             "colorbar": {
              "outlinewidth": 0,
              "ticks": ""
             }
            },
            "type": "scatterpolargl"
           }
          ],
          "scatterternary": [
           {
            "marker": {
             "colorbar": {
              "outlinewidth": 0,
              "ticks": ""
             }
            },
            "type": "scatterternary"
           }
          ],
          "surface": [
           {
            "colorbar": {
             "outlinewidth": 0,
             "ticks": ""
            },
            "colorscale": [
             [
              0,
              "#0d0887"
             ],
             [
              0.1111111111111111,
              "#46039f"
             ],
             [
              0.2222222222222222,
              "#7201a8"
             ],
             [
              0.3333333333333333,
              "#9c179e"
             ],
             [
              0.4444444444444444,
              "#bd3786"
             ],
             [
              0.5555555555555556,
              "#d8576b"
             ],
             [
              0.6666666666666666,
              "#ed7953"
             ],
             [
              0.7777777777777778,
              "#fb9f3a"
             ],
             [
              0.8888888888888888,
              "#fdca26"
             ],
             [
              1,
              "#f0f921"
             ]
            ],
            "type": "surface"
           }
          ],
          "table": [
           {
            "cells": {
             "fill": {
              "color": "#EBF0F8"
             },
             "line": {
              "color": "white"
             }
            },
            "header": {
             "fill": {
              "color": "#C8D4E3"
             },
             "line": {
              "color": "white"
             }
            },
            "type": "table"
           }
          ]
         },
         "layout": {
          "annotationdefaults": {
           "arrowcolor": "#2a3f5f",
           "arrowhead": 0,
           "arrowwidth": 1
          },
          "autotypenumbers": "strict",
          "coloraxis": {
           "colorbar": {
            "outlinewidth": 0,
            "ticks": ""
           }
          },
          "colorscale": {
           "diverging": [
            [
             0,
             "#8e0152"
            ],
            [
             0.1,
             "#c51b7d"
            ],
            [
             0.2,
             "#de77ae"
            ],
            [
             0.3,
             "#f1b6da"
            ],
            [
             0.4,
             "#fde0ef"
            ],
            [
             0.5,
             "#f7f7f7"
            ],
            [
             0.6,
             "#e6f5d0"
            ],
            [
             0.7,
             "#b8e186"
            ],
            [
             0.8,
             "#7fbc41"
            ],
            [
             0.9,
             "#4d9221"
            ],
            [
             1,
             "#276419"
            ]
           ],
           "sequential": [
            [
             0,
             "#0d0887"
            ],
            [
             0.1111111111111111,
             "#46039f"
            ],
            [
             0.2222222222222222,
             "#7201a8"
            ],
            [
             0.3333333333333333,
             "#9c179e"
            ],
            [
             0.4444444444444444,
             "#bd3786"
            ],
            [
             0.5555555555555556,
             "#d8576b"
            ],
            [
             0.6666666666666666,
             "#ed7953"
            ],
            [
             0.7777777777777778,
             "#fb9f3a"
            ],
            [
             0.8888888888888888,
             "#fdca26"
            ],
            [
             1,
             "#f0f921"
            ]
           ],
           "sequentialminus": [
            [
             0,
             "#0d0887"
            ],
            [
             0.1111111111111111,
             "#46039f"
            ],
            [
             0.2222222222222222,
             "#7201a8"
            ],
            [
             0.3333333333333333,
             "#9c179e"
            ],
            [
             0.4444444444444444,
             "#bd3786"
            ],
            [
             0.5555555555555556,
             "#d8576b"
            ],
            [
             0.6666666666666666,
             "#ed7953"
            ],
            [
             0.7777777777777778,
             "#fb9f3a"
            ],
            [
             0.8888888888888888,
             "#fdca26"
            ],
            [
             1,
             "#f0f921"
            ]
           ]
          },
          "colorway": [
           "#636efa",
           "#EF553B",
           "#00cc96",
           "#ab63fa",
           "#FFA15A",
           "#19d3f3",
           "#FF6692",
           "#B6E880",
           "#FF97FF",
           "#FECB52"
          ],
          "font": {
           "color": "#2a3f5f"
          },
          "geo": {
           "bgcolor": "white",
           "lakecolor": "white",
           "landcolor": "white",
           "showlakes": true,
           "showland": true,
           "subunitcolor": "#C8D4E3"
          },
          "hoverlabel": {
           "align": "left"
          },
          "hovermode": "closest",
          "mapbox": {
           "style": "light"
          },
          "paper_bgcolor": "white",
          "plot_bgcolor": "white",
          "polar": {
           "angularaxis": {
            "gridcolor": "#EBF0F8",
            "linecolor": "#EBF0F8",
            "ticks": ""
           },
           "bgcolor": "white",
           "radialaxis": {
            "gridcolor": "#EBF0F8",
            "linecolor": "#EBF0F8",
            "ticks": ""
           }
          },
          "scene": {
           "xaxis": {
            "backgroundcolor": "white",
            "gridcolor": "#DFE8F3",
            "gridwidth": 2,
            "linecolor": "#EBF0F8",
            "showbackground": true,
            "ticks": "",
            "zerolinecolor": "#EBF0F8"
           },
           "yaxis": {
            "backgroundcolor": "white",
            "gridcolor": "#DFE8F3",
            "gridwidth": 2,
            "linecolor": "#EBF0F8",
            "showbackground": true,
            "ticks": "",
            "zerolinecolor": "#EBF0F8"
           },
           "zaxis": {
            "backgroundcolor": "white",
            "gridcolor": "#DFE8F3",
            "gridwidth": 2,
            "linecolor": "#EBF0F8",
            "showbackground": true,
            "ticks": "",
            "zerolinecolor": "#EBF0F8"
           }
          },
          "shapedefaults": {
           "line": {
            "color": "#2a3f5f"
           }
          },
          "ternary": {
           "aaxis": {
            "gridcolor": "#DFE8F3",
            "linecolor": "#A2B1C6",
            "ticks": ""
           },
           "baxis": {
            "gridcolor": "#DFE8F3",
            "linecolor": "#A2B1C6",
            "ticks": ""
           },
           "bgcolor": "white",
           "caxis": {
            "gridcolor": "#DFE8F3",
            "linecolor": "#A2B1C6",
            "ticks": ""
           }
          },
          "title": {
           "x": 0.05
          },
          "xaxis": {
           "automargin": true,
           "gridcolor": "#EBF0F8",
           "linecolor": "#EBF0F8",
           "ticks": "",
           "title": {
            "standoff": 15
           },
           "zerolinecolor": "#EBF0F8",
           "zerolinewidth": 2
          },
          "yaxis": {
           "automargin": true,
           "gridcolor": "#EBF0F8",
           "linecolor": "#EBF0F8",
           "ticks": "",
           "title": {
            "standoff": 15
           },
           "zerolinecolor": "#EBF0F8",
           "zerolinewidth": 2
          }
         }
        },
        "title": {
         "font": {
          "color": "Black",
          "size": 22
         },
         "text": "Topic Word Scores",
         "x": 0.5,
         "xanchor": "center",
         "yanchor": "top"
        },
        "width": 1000,
        "xaxis": {
         "anchor": "y",
         "domain": [
          0,
          0.175
         ],
         "showgrid": true
        },
        "xaxis2": {
         "anchor": "y2",
         "domain": [
          0.275,
          0.45
         ],
         "showgrid": true
        },
        "xaxis3": {
         "anchor": "y3",
         "domain": [
          0.55,
          0.7250000000000001
         ],
         "showgrid": true
        },
        "xaxis4": {
         "anchor": "y4",
         "domain": [
          0.825,
          1
         ],
         "showgrid": true
        },
        "xaxis5": {
         "anchor": "y5",
         "domain": [
          0,
          0.175
         ],
         "showgrid": true
        },
        "xaxis6": {
         "anchor": "y6",
         "domain": [
          0.275,
          0.45
         ],
         "showgrid": true
        },
        "xaxis7": {
         "anchor": "y7",
         "domain": [
          0.55,
          0.7250000000000001
         ],
         "showgrid": true
        },
        "xaxis8": {
         "anchor": "y8",
         "domain": [
          0.825,
          1
         ],
         "showgrid": true
        },
        "yaxis": {
         "anchor": "x",
         "domain": [
          0.6000000000000001,
          1
         ],
         "showgrid": true
        },
        "yaxis2": {
         "anchor": "x2",
         "domain": [
          0.6000000000000001,
          1
         ],
         "showgrid": true
        },
        "yaxis3": {
         "anchor": "x3",
         "domain": [
          0.6000000000000001,
          1
         ],
         "showgrid": true
        },
        "yaxis4": {
         "anchor": "x4",
         "domain": [
          0.6000000000000001,
          1
         ],
         "showgrid": true
        },
        "yaxis5": {
         "anchor": "x5",
         "domain": [
          0,
          0.4
         ],
         "showgrid": true
        },
        "yaxis6": {
         "anchor": "x6",
         "domain": [
          0,
          0.4
         ],
         "showgrid": true
        },
        "yaxis7": {
         "anchor": "x7",
         "domain": [
          0,
          0.4
         ],
         "showgrid": true
        },
        "yaxis8": {
         "anchor": "x8",
         "domain": [
          0,
          0.4
         ],
         "showgrid": true
        }
       }
      }
     },
     "metadata": {},
     "output_type": "display_data"
    }
   ],
   "source": [
    "bertopic.visualize_barchart()"
   ]
  },
  {
   "cell_type": "code",
   "execution_count": null,
   "metadata": {},
   "outputs": [],
   "source": []
  }
 ],
 "metadata": {
  "kernelspec": {
   "display_name": "DC3",
   "language": "python",
   "name": "python3"
  },
  "language_info": {
   "codemirror_mode": {
    "name": "ipython",
    "version": 3
   },
   "file_extension": ".py",
   "mimetype": "text/x-python",
   "name": "python",
   "nbconvert_exporter": "python",
   "pygments_lexer": "ipython3",
   "version": "3.9.18"
  }
 },
 "nbformat": 4,
 "nbformat_minor": 2
}
