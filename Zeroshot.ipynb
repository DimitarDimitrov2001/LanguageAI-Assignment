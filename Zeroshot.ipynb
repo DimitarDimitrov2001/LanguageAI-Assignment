{
 "cells": [
  {
   "cell_type": "code",
   "execution_count": 1,
   "metadata": {},
   "outputs": [
    {
     "name": "stderr",
     "output_type": "stream",
     "text": [
      "c:\\Users\\izzfa\\anaconda3\\envs\\DC3\\lib\\site-packages\\tqdm\\auto.py:21: TqdmWarning: IProgress not found. Please update jupyter and ipywidgets. See https://ipywidgets.readthedocs.io/en/stable/user_install.html\n",
      "  from .autonotebook import tqdm as notebook_tqdm\n"
     ]
    }
   ],
   "source": [
    "import pandas as pd\n",
    "from tqdm import tqdm\n",
    "from transformers import pipeline, AutoTokenizer"
   ]
  },
  {
   "cell_type": "code",
   "execution_count": null,
   "metadata": {},
   "outputs": [],
   "source": [
    "# Read the data and perform preprocessing\n",
    "\n",
    "df = pd.read_csv(\"data\\df_all_cleaned.csv\") # Read data into 'df' dataframe\n",
    "print(df.shape) # Print dataframe shape\n",
    "\n",
    "summary = df[\"post_extrovert\"].tolist() # Create a list containing all article summaries\n",
    "\n",
    "df"
   ]
  },
  {
   "cell_type": "code",
   "execution_count": null,
   "metadata": {},
   "outputs": [],
   "source": [
    "#Run this to get the zero shot classification result. Will take awhile.\n",
    "results = []\n",
    "\n",
    "tokenizer = AutoTokenizer.from_pretrained(\"MoritzLaurer/deberta-v3-large-zeroshot-v1.1-all-33\", use_fast=False)\n",
    "classifier = pipeline(\"zero-shot-classification\", model=\"MoritzLaurer/deberta-v3-large-zeroshot-v1.1-all-33\")\n",
    "\n",
    "for text in tqdm(summary):\n",
    "\n",
    "    context = text\n",
    "    sequence_to_classify = context\n",
    "\n",
    "     # Tokenize the text and truncate if needed\n",
    "    inputs = tokenizer(sequence_to_classify, return_tensors=\"pt\", truncation=True, max_length=512)\n",
    "\n",
    "    # Perform zero-shot classification\n",
    "    output = classifier([sequence_to_classify], candidate_labels=[\"Introvert\", 'Extrovert'], multi_label=False)\n",
    "    # candidate_labels = [\"Introvert\", 'Extrovert']\n",
    "    # output = classifier(sequence_to_classify, candidate_labels, multi_label=False)\n",
    "\n",
    "    results.append(output)"
   ]
  },
  {
   "cell_type": "code",
   "execution_count": null,
   "metadata": {},
   "outputs": [],
   "source": [
    "# Sorting the labels and scores for DeBERTa\n",
    "\n",
    "labels = []\n",
    "scores =[]\n",
    "\n",
    "for res in results:\n",
    "    labels.append(res['labels'][0])\n",
    "    scores.append(res['scores'][0])\n",
    "\n",
    "df['Zeroshot'] = labels\n",
    "df['Scores for Zeroshot'] = scores"
   ]
  }
 ],
 "metadata": {
  "kernelspec": {
   "display_name": "DC3",
   "language": "python",
   "name": "python3"
  },
  "language_info": {
   "codemirror_mode": {
    "name": "ipython",
    "version": 3
   },
   "file_extension": ".py",
   "mimetype": "text/x-python",
   "name": "python",
   "nbconvert_exporter": "python",
   "pygments_lexer": "ipython3",
   "version": "3.9.18"
  }
 },
 "nbformat": 4,
 "nbformat_minor": 2
}
